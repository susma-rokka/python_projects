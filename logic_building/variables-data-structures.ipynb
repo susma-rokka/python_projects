{
 "cells": [
  {
   "cell_type": "code",
   "execution_count": null,
   "metadata": {},
   "outputs": [],
   "source": [
    "# Swap two variables using a temporary variable.\n",
    "a = 2\n",
    "b = 3\n",
    "\n",
    "n=a\n",
    "a=b\n",
    "b=n\n",
    "print(b)\n"
   ]
  },
  {
   "cell_type": "code",
   "execution_count": null,
   "metadata": {},
   "outputs": [],
   "source": [
    "# Calculate the area and perimeter of a circle (use constants for pi).\n",
    "from math import pi\n",
    "r = float(input(\"Enter a radius of circle:\"))\n",
    "area = pi*r**2\n",
    "perimeter = 2*pi*r\n",
    "print(f'the area of cicle:{area}')\n",
    "print(f\"the perimeter of circel: {perimeter}\")\n"
   ]
  },
  {
   "cell_type": "code",
   "execution_count": null,
   "metadata": {},
   "outputs": [],
   "source": [
    "# Convert temperature from Celsius to Fahrenheit.\n",
    "\n",
    "celsius = 37\n",
    "fahrenheit = (9/5*celsius)+32\n",
    "print(fahrenheit)"
   ]
  },
  {
   "cell_type": "code",
   "execution_count": null,
   "metadata": {},
   "outputs": [],
   "source": [
    "# Define a variable with a string and print it reversed.\n",
    "# para = \"My name is Susma\"\n",
    "# reversed_para = para[::-1]\n",
    "# print(reversed_para)\n",
    "para = \"My name is Susma\"[::-1]\n",
    "print(para)"
   ]
  },
  {
   "cell_type": "code",
   "execution_count": null,
   "metadata": {},
   "outputs": [],
   "source": [
    "# Assign two numbers to variables and print their sum, difference, and product.\n",
    "num1, num2 = (1,3)\n",
    "print(num1 +num2)\n",
    "print(num1-num2)\n",
    "print(num1*num2)"
   ]
  },
  {
   "cell_type": "code",
   "execution_count": null,
   "metadata": {},
   "outputs": [],
   "source": [
    "# Assign a float value to a variable and round it to two decimal places.\n",
    "num = float(input(\"Enter a float value:\"))\n",
    "rounded_num = round(num, 2)\n",
    "print(rounded_num)\n"
   ]
  },
  {
   "cell_type": "code",
   "execution_count": null,
   "metadata": {},
   "outputs": [],
   "source": [
    "# Create a program to check if a variable is of integer type.\n",
    "num =42\n",
    "print(type(num))\n"
   ]
  },
  {
   "cell_type": "code",
   "execution_count": null,
   "metadata": {},
   "outputs": [],
   "source": [
    "# Define a complex number and print its real and imaginary parts.\n",
    "\n",
    "\n",
    "x = 2\n",
    "y = 3\n",
    "complex_num = complex(x, y)\n",
    "print(complex_num)\n",
    "print(f'The real part of complex_num: {complex_num.real}')\n",
    "print(f'The imaginary part of complex_num: {complex_num.imag}')\n"
   ]
  },
  {
   "cell_type": "code",
   "execution_count": null,
   "metadata": {},
   "outputs": [],
   "source": [
    "# Write a program to concatenate two strings.\n",
    "\n",
    "string1 = \"I have a dream\"\n",
    "string2 = \"\\n of becoming a data analyst.\"\n",
    "string = string1 + string2\n",
    "print(string)"
   ]
  },
  {
   "cell_type": "code",
   "execution_count": null,
   "metadata": {},
   "outputs": [],
   "source": [
    "# Write a program to convert a float to an integer\n",
    "num1 = 5.6\n",
    "num2 = int(num1)\n",
    "print(num2)"
   ]
  },
  {
   "cell_type": "code",
   "execution_count": null,
   "metadata": {},
   "outputs": [],
   "source": [
    "# Check if a string contains only digits using a variable.\n",
    "string = \"23456\"\n",
    "if string.isdigit():\n",
    "  print(\"string contains digits\")\n",
    "else:\n",
    "  print(\"string does not have digits\")\n",
    "\n",
    "\n"
   ]
  },
  {
   "cell_type": "code",
   "execution_count": null,
   "metadata": {},
   "outputs": [],
   "source": [
    "# Create a program to check if a variable is None.\n",
    "\n",
    "x = None\n",
    "if x is None:\n",
    "  print(\"The variable is none\")\n",
    "else:\n",
    "  print(\"The variable is not none\")\n",
    "\n"
   ]
  },
  {
   "cell_type": "code",
   "execution_count": null,
   "metadata": {},
   "outputs": [],
   "source": [
    "# Assign a boolean value to a variable and toggle it.\n",
    "van = True\n",
    "van = not van\n",
    "print(van)\n"
   ]
  },
  {
   "cell_type": "code",
   "execution_count": 1,
   "metadata": {},
   "outputs": [
    {
     "name": "stdout",
     "output_type": "stream",
     "text": [
      "64\n"
     ]
    }
   ],
   "source": [
    "# Write a program to calculate the cube of a given number.\n",
    "\n",
    "num = 4\n",
    "cube_number = num **3\n",
    "print(cube_number)\n"
   ]
  },
  {
   "cell_type": "code",
   "execution_count": null,
   "metadata": {},
   "outputs": [],
   "source": []
  },
  {
   "cell_type": "code",
   "execution_count": null,
   "metadata": {},
   "outputs": [],
   "source": []
  },
  {
   "cell_type": "code",
   "execution_count": null,
   "metadata": {},
   "outputs": [],
   "source": []
  }
 ],
 "metadata": {
  "kernelspec": {
   "display_name": "project_env",
   "language": "python",
   "name": "python3"
  },
  "language_info": {
   "codemirror_mode": {
    "name": "ipython",
    "version": 3
   },
   "file_extension": ".py",
   "mimetype": "text/x-python",
   "name": "python",
   "nbconvert_exporter": "python",
   "pygments_lexer": "ipython3",
   "version": "3.13.1"
  }
 },
 "nbformat": 4,
 "nbformat_minor": 2
}
