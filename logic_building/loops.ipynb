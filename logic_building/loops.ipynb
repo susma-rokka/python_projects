{
 "cells": [
  {
   "cell_type": "code",
   "execution_count": 1,
   "metadata": {},
   "outputs": [
    {
     "name": "stdout",
     "output_type": "stream",
     "text": [
      "1\n",
      "2\n",
      "3\n",
      "4\n",
      "5\n",
      "6\n",
      "7\n",
      "8\n",
      "9\n",
      "10\n",
      "11\n",
      "12\n",
      "13\n",
      "14\n",
      "15\n",
      "16\n",
      "17\n",
      "18\n",
      "19\n",
      "20\n",
      "21\n",
      "22\n",
      "23\n",
      "24\n",
      "25\n",
      "26\n",
      "27\n",
      "28\n",
      "29\n",
      "30\n",
      "31\n",
      "32\n",
      "33\n",
      "34\n",
      "35\n",
      "36\n",
      "37\n",
      "38\n",
      "39\n",
      "40\n",
      "41\n",
      "42\n",
      "43\n",
      "44\n",
      "45\n",
      "46\n",
      "47\n",
      "48\n",
      "49\n",
      "50\n",
      "51\n",
      "52\n",
      "53\n",
      "54\n",
      "55\n",
      "56\n",
      "57\n",
      "58\n",
      "59\n",
      "60\n",
      "61\n",
      "62\n",
      "63\n",
      "64\n",
      "65\n",
      "66\n",
      "67\n",
      "68\n",
      "69\n",
      "70\n",
      "71\n",
      "72\n",
      "73\n",
      "74\n",
      "75\n",
      "76\n",
      "77\n",
      "78\n",
      "79\n",
      "80\n",
      "81\n",
      "82\n",
      "83\n",
      "84\n",
      "85\n",
      "86\n",
      "87\n",
      "88\n",
      "89\n",
      "90\n",
      "91\n",
      "92\n",
      "93\n",
      "94\n",
      "95\n",
      "96\n",
      "97\n",
      "98\n",
      "99\n",
      "100\n"
     ]
    }
   ],
   "source": [
    "# Print numbers from 1 to 100.\n",
    "for i in range(1,101):\n",
    "    print(i)"
   ]
  },
  {
   "cell_type": "code",
   "execution_count": 3,
   "metadata": {},
   "outputs": [
    {
     "name": "stdout",
     "output_type": "stream",
     "text": [
      "1275\n"
     ]
    }
   ],
   "source": [
    "# Write a program to calculate the sum of the first 50 natural numbers.\n",
    "sum = 0\n",
    "\n",
    "for i in range(1,51):\n",
    "    sum+=i\n",
    "print(sum)"
   ]
  },
  {
   "cell_type": "code",
   "execution_count": 5,
   "metadata": {},
   "outputs": [
    {
     "name": "stdout",
     "output_type": "stream",
     "text": [
      "5*1= 5\n",
      "5*2= 10\n",
      "5*3= 15\n",
      "5*4= 20\n",
      "5*5= 25\n",
      "5*6= 30\n",
      "5*7= 35\n",
      "5*8= 40\n",
      "5*9= 45\n",
      "5*10= 50\n"
     ]
    }
   ],
   "source": [
    "# Print the multiplication table of a given number.\n",
    "num = int(input(\"enter a number:\"))\n",
    "for i in range(1,11):\n",
    "    print(f\"{num}*{i}= {num*i}\")"
   ]
  },
  {
   "cell_type": "code",
   "execution_count": 6,
   "metadata": {},
   "outputs": [
    {
     "name": "stdout",
     "output_type": "stream",
     "text": [
      "7*1 = 7\n",
      "7*2 = 14\n",
      "7*3 = 21\n",
      "7*4 = 28\n",
      "7*5 = 35\n",
      "7*6 = 42\n",
      "7*7 = 49\n",
      "7*8 = 56\n",
      "7*9 = 63\n",
      "7*10 = 70\n"
     ]
    }
   ],
   "source": [
    "num = int(input(\"enter a number:\"))\n",
    "for i in range(1, 11):\n",
    "    print(f\"{num}*{i} = {num*i}\")"
   ]
  },
  {
   "cell_type": "code",
   "execution_count": 4,
   "metadata": {},
   "outputs": [
    {
     "name": "stdout",
     "output_type": "stream",
     "text": [
      ".amsuS si eman yM\n"
     ]
    }
   ],
   "source": [
    "# Write a program to reverse a string using a loop.\n",
    "\n",
    "string1 = \"My name is Susma.\"\n",
    "reversed_string = \"\"\n",
    "for i in range(len(string1)-1 ,-1 ,-1):\n",
    "    reversed_string+=string1[i]\n",
    "print(reversed_string)\n",
    "\n"
   ]
  },
  {
   "cell_type": "code",
   "execution_count": 5,
   "metadata": {},
   "outputs": [
    {
     "name": "stdout",
     "output_type": "stream",
     "text": [
      "Fabioncii numbers are :\n",
      "0 1 1 2 3 "
     ]
    }
   ],
   "source": [
    "# Generate the Fibonacci sequence up to n terms\n",
    "n = int(input(\"Enter a number: \"))\n",
    "a, b = 0, 1\n",
    "print(\"Fabioncii numbers are :\")\n",
    "for _ in range(n):\n",
    "    print(a, end = \" \")\n",
    "    a,b = b, a+b"
   ]
  },
  {
   "cell_type": "code",
   "execution_count": 7,
   "metadata": {},
   "outputs": [
    {
     "name": "stdout",
     "output_type": "stream",
     "text": [
      "01123"
     ]
    }
   ],
   "source": [
    "a, b = 0, 1\n",
    "for i in range(5):\n",
    "    print(a, end = \"\")\n",
    "    a, b = b, a+b"
   ]
  },
  {
   "cell_type": "code",
   "execution_count": 23,
   "metadata": {},
   "outputs": [
    {
     "name": "stdout",
     "output_type": "stream",
     "text": [
      "2\n"
     ]
    }
   ],
   "source": [
    "# Count the number of digits in an integer using a loop.\n",
    "\n",
    "n = int(input(\"Enter the number: \"))\n",
    "count = 0\n",
    "while n!=0:\n",
    "        n = n//10\n",
    "        count+=1\n",
    "print(count)"
   ]
  },
  {
   "cell_type": "code",
   "execution_count": 1,
   "metadata": {},
   "outputs": [
    {
     "name": "stdout",
     "output_type": "stream",
     "text": [
      "2 3 5 7 11 13 17 19 23 29 31 37 41 43 47 53 59 61 67 71 73 79 83 89 97 "
     ]
    }
   ],
   "source": [
    "# Print all prime numbers between 1 and 100.\n",
    "i = 0\n",
    "for num in range(2, 101):\n",
    "    is_prime = True\n",
    "    for i in range(2, int(num**0.5)+1):\n",
    "        if num%i==0:\n",
    "            is_prime = False\n",
    "            break\n",
    "    if is_prime == True:\n",
    "        print(num, end = \" \")"
   ]
  },
  {
   "cell_type": "code",
   "execution_count": 11,
   "metadata": {},
   "outputs": [
    {
     "data": {
      "text/plain": [
       "3"
      ]
     },
     "execution_count": 11,
     "metadata": {},
     "output_type": "execute_result"
    }
   ],
   "source": []
  },
  {
   "cell_type": "code",
   "execution_count": 2,
   "metadata": {},
   "outputs": [
    {
     "name": "stdout",
     "output_type": "stream",
     "text": [
      "The sum of the digits in a number is 41.\n"
     ]
    }
   ],
   "source": [
    "# Write a program to calculate the sum of digits in a number.\n",
    "\n",
    "num = int(input(\"Enter some digits: \"))\n",
    "sum = 0\n",
    "while num > 0:\n",
    "    digit = num%10\n",
    "    sum+=digit\n",
    "    num = num//10\n",
    "print(f\"The sum of the digits in a number is {sum}.\")\n",
    "\n",
    "\n"
   ]
  },
  {
   "cell_type": "code",
   "execution_count": 1,
   "metadata": {},
   "outputs": [
    {
     "name": "stdout",
     "output_type": "stream",
     "text": [
      "hello world\n"
     ]
    }
   ],
   "source": [
    "print(\"hello world\")"
   ]
  },
  {
   "cell_type": "code",
   "execution_count": 5,
   "metadata": {},
   "outputs": [
    {
     "name": "stdout",
     "output_type": "stream",
     "text": [
      "The factorial of 3 is 6 \n"
     ]
    }
   ],
   "source": [
    "# Find the factorial of a number using a loop.\n",
    "\n",
    "num = int(input(\"Enter a number: \"))\n",
    "factorial = 1\n",
    "i = num\n",
    "while i > 0:\n",
    "    factorial*=i\n",
    "    i-=1\n",
    "print(f\"The factorial of {num} is {factorial} \")"
   ]
  },
  {
   "cell_type": "code",
   "execution_count": 17,
   "metadata": {},
   "outputs": [
    {
     "name": "stdout",
     "output_type": "stream",
     "text": [
      "idx: 0, val: 1 idx: 1, val: 2 idx: 2, val: 5 idx: 3, val: 4 idx: 4, val: 8 idx: 5, val: Susma "
     ]
    }
   ],
   "source": [
    "# Print all the elements of a list using a loop.\n",
    "test_list = [1,2,5,4,8,\"Susma\"]\n",
    "# for i in range(len(test_list)):\n",
    "#     print(test_list[i], end =\" \")\n",
    "\n",
    "for index, value in enumerate(test_list):\n",
    "    print(f\"idx: {index}, val: {value}\", end=\" \")\n",
    "\n",
    "# i = 0\n",
    "# while i<len(list):\n",
    "#     print(list[i])\n",
    "#     i+=1\n",
    "\n"
   ]
  },
  {
   "cell_type": "code",
   "execution_count": 4,
   "metadata": {},
   "outputs": [
    {
     "name": "stdout",
     "output_type": "stream",
     "text": [
      "2\n",
      "4\n",
      "6\n",
      "8\n",
      "10\n",
      "12\n",
      "14\n",
      "16\n",
      "18\n",
      "20\n",
      "22\n"
     ]
    }
   ],
   "source": [
    "# Create a program to print all the even numbers in a range.\n",
    "start = int(input(\"Enter the starting range: \"))\n",
    "end =  int(input(\"Enter the ending range: \"))\n",
    "for i in range(start, end):\n",
    "    if i%2 == 0:\n",
    "        print(i)"
   ]
  },
  {
   "cell_type": "code",
   "execution_count": 7,
   "metadata": {},
   "outputs": [
    {
     "name": "stdout",
     "output_type": "stream",
     "text": [
      "       *\n",
      "      ***\n",
      "     *****\n",
      "    *******\n",
      "   *********\n",
      "  ***********\n",
      " *************\n",
      "***************\n"
     ]
    }
   ],
   "source": [
    "# Write a program to print a pyramid pattern using *.\n",
    "n = int(input(\"Enter the number of rows: \"))\n",
    "for i in range(1, n+1):\n",
    "    for j in range(n -i):\n",
    "        print(\" \", end = \"\")\n",
    "    for k in range(2 *i -1):\n",
    "        print(\"*\", end =\"\")\n",
    "    print()"
   ]
  },
  {
   "cell_type": "code",
   "execution_count": 3,
   "metadata": {},
   "outputs": [
    {
     "name": "stdout",
     "output_type": "stream",
     "text": [
      "The largest_num in the lsit is 89\n"
     ]
    }
   ],
   "source": [
    "# Find the largest number in a list using a loop.\n",
    "list = [2,3,4,5,6,89]\n",
    "largest_num =list[0] \n",
    "for num in list:\n",
    "    if num > largest_num:\n",
    "        largest_num = num\n",
    "print(f\"The largest_num in the lsit is {num}\")"
   ]
  },
  {
   "cell_type": "code",
   "execution_count": null,
   "metadata": {},
   "outputs": [],
   "source": [
    "# Print all numbers divisible by 7 between 1 and 100.\n",
    "for i in range (1, 101):\n",
    "    if i % 7 == 0:\n",
    "        print(f\"The numbers divisible by 7 between 1 and 100 are: {i}. \")"
   ]
  },
  {
   "cell_type": "code",
   "execution_count": 18,
   "metadata": {},
   "outputs": [
    {
     "name": "stdout",
     "output_type": "stream",
     "text": [
      "The avearge is: 2.1\n"
     ]
    }
   ],
   "source": [
    "# Write a program to calculate the average of numbers in a list.\n",
    "\n",
    "list = [1,2,3,4.5,0]\n",
    "sum = 0\n",
    "for num in list:\n",
    "    sum+=num\n",
    "count = len(list)\n",
    "\n",
    "Average = sum / count\n",
    "print(f\"The avearge is: {Average}\")\n"
   ]
  },
  {
   "cell_type": "code",
   "execution_count": 19,
   "metadata": {},
   "outputs": [
    {
     "name": "stdout",
     "output_type": "stream",
     "text": [
      "B e a u t i f u l "
     ]
    }
   ],
   "source": [
    "# Print all characters of a string using a loop.\n",
    "my_string = \"Beautiful\"\n",
    "for i in my_string:\n",
    "    print(i , end = \" \")"
   ]
  },
  {
   "cell_type": "code",
   "execution_count": 21,
   "metadata": {},
   "outputs": [
    {
     "name": "stdout",
     "output_type": "stream",
     "text": [
      "the count occurence of h is 5.\n"
     ]
    }
   ],
   "source": [
    "# Write a program to count the occurrences of a specific character in a string.\n",
    "my_string = \"BBHudyuorrjhhhdhhu\"\n",
    "count = 0\n",
    "counted_char = input(\"Enter a char:\")\n",
    "for i in my_string:\n",
    "    if i == counted_char:\n",
    "        count+=1\n",
    "print(f\"the count occurence of {counted_char} is {count}.\")\n"
   ]
  },
  {
   "cell_type": "code",
   "execution_count": 37,
   "metadata": {},
   "outputs": [
    {
     "name": "stdout",
     "output_type": "stream",
     "text": [
      "['SUmsa', 7, 5, 4, 2, 1]\n"
     ]
    }
   ],
   "source": [
    "# Print the reverse of a list using a loop.\n",
    "list = [1,2,4,5,7,\"SUmsa\"]\n",
    "reversed_list = []\n",
    "for i in range(len(list) -1 ,-1 ,-1):\n",
    "    reversed_list.append(list[i])\n",
    "print(reversed_list)\n",
    "\n"
   ]
  },
  {
   "cell_type": "code",
   "execution_count": null,
   "metadata": {},
   "outputs": [],
   "source": [
    "# Write a program to print the first n numbers of a sequence where each number is the sum of the previous two.\n",
    "# Number of terms to print\n",
    "n = 10  # Change this to the desired number of terms\n",
    "\n",
    "# Initialize the first two numbers of the sequence\n",
    "a, b = 0, 1\n",
    "\n",
    "# Print the first two numbers\n",
    "print(a, b, end=\" \")\n",
    "\n",
    "# Loop to generate the next numbers in the sequence\n",
    "for _ in range(2, n):\n",
    "    next_number = a + b\n",
    "    print(next_number, end=\" \")\n",
    "    a, b = b, next_number\n",
    "\n"
   ]
  }
 ],
 "metadata": {
  "kernelspec": {
   "display_name": "project_env",
   "language": "python",
   "name": "python3"
  },
  "language_info": {
   "codemirror_mode": {
    "name": "ipython",
    "version": 3
   },
   "file_extension": ".py",
   "mimetype": "text/x-python",
   "name": "python",
   "nbconvert_exporter": "python",
   "pygments_lexer": "ipython3",
   "version": "3.13.1"
  }
 },
 "nbformat": 4,
 "nbformat_minor": 2
}
