{
 "cells": [
  {
   "cell_type": "code",
   "execution_count": 6,
   "metadata": {},
   "outputs": [
    {
     "name": "stdout",
     "output_type": "stream",
     "text": [
      "Welcome to number guessing game!\n",
      "Can you guess the numbers between 0 and 100 that I have selected\n",
      "Too high, try again.\n"
     ]
    }
   ],
   "source": [
    "# Number Guessing Game\n",
    "\n",
    "# Description: Build a game where the computer randomly selects a number, and the user has to guess it.\n",
    "# Concepts: Random module, loops, conditionals, functions.\n",
    "\n",
    "import random\n",
    "\n",
    "def guess_a_number():\n",
    "    number_to_guess = random.randint(0,100)\n",
    "    guess = 0\n",
    "    print(\"Welcome to number guessing game!\")\n",
    "    print(\"Can you guess the numbers between 0 and 100 that I have selected\")\n",
    "\n",
    "\n",
    "    # while guess!= number_to_guess:\n",
    "    #     try:\n",
    "    #         guess = int(input(\"Enter a number: \"))\n",
    "    #         if guess< number_to_guess:\n",
    "    #             print(\"Too low. Try again.\")\n",
    "    #         elif guess> number_to_guess:\n",
    "    #             print(\"Too high. Try again.\")\n",
    "    #         else:\n",
    "    #             print(\"congratulations. You guessed it right.\")\n",
    "\n",
    "    if guess> number_to_guess:\n",
    "        print(\"Too low,try again.\") \n",
    "\n",
    "    elif guess< number_to_guess:\n",
    "        print(\"Too high, try again.\") \n",
    "\n",
    "    else:\n",
    "        print(\"Congratulations! You guessed it right.\")\n",
    "\n",
    "number = int(input(\"enter a number.\"))\n",
    "\n",
    "guess_a_number()\n",
    "\n",
    "\n",
    "\n"
   ]
  },
  {
   "cell_type": "code",
   "execution_count": 12,
   "metadata": {},
   "outputs": [
    {
     "name": "stdout",
     "output_type": "stream",
     "text": [
      "Welcome to the guessing game.\n",
      "Too low! Try again.\n",
      "Too low! Try again.\n",
      "Too low! Try again.\n"
     ]
    }
   ],
   "source": [
    "import random \n",
    "\n",
    "random_number = random.randint(1,10)\n",
    "\n",
    "print(\"Welcome to the guessing game.\")\n",
    "for attempts in range(3):\n",
    "    try:\n",
    "        user_guess = int(input(\"Enter a number: \"))\n",
    "        if user_guess> random_number:\n",
    "            print(\"Too high! Try again.\")\n",
    "        elif user_guess< random_number:\n",
    "            print(\"Too low! Try again.\")\n",
    "        else:\n",
    "            print(\"Congratulations! You guessed it right.\")\n",
    "            break\n",
    "    except ValueError:\n",
    "        print(\"Invalid Input, Please enter a valid number.\")\n",
    "\n",
    "    "
   ]
  }
 ],
 "metadata": {
  "kernelspec": {
   "display_name": "project_env",
   "language": "python",
   "name": "python3"
  },
  "language_info": {
   "codemirror_mode": {
    "name": "ipython",
    "version": 3
   },
   "file_extension": ".py",
   "mimetype": "text/x-python",
   "name": "python",
   "nbconvert_exporter": "python",
   "pygments_lexer": "ipython3",
   "version": "3.13.1"
  }
 },
 "nbformat": 4,
 "nbformat_minor": 2
}
