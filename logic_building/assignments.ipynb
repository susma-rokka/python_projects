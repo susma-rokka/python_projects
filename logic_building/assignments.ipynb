{
 "cells": [
  {
   "cell_type": "markdown",
   "metadata": {},
   "source": [
    "# Variables and Data Types"
   ]
  },
  {
   "cell_type": "code",
   "execution_count": 1,
   "metadata": {},
   "outputs": [
    {
     "ename": "ValueError",
     "evalue": "could not convert string to float: ''",
     "output_type": "error",
     "traceback": [
      "\u001b[1;31m---------------------------------------------------------------------------\u001b[0m",
      "\u001b[1;31mValueError\u001b[0m                                Traceback (most recent call last)",
      "Cell \u001b[1;32mIn[1], line 3\u001b[0m\n\u001b[0;32m      1\u001b[0m \u001b[38;5;66;03m# Write a program to convert temperature from Celsius to Fahrenheit.\u001b[39;00m\n\u001b[1;32m----> 3\u001b[0m c \u001b[38;5;241m=\u001b[39m \u001b[38;5;28;43mfloat\u001b[39;49m\u001b[43m(\u001b[49m\u001b[38;5;28;43minput\u001b[39;49m\u001b[43m(\u001b[49m\u001b[38;5;124;43m\"\u001b[39;49m\u001b[38;5;124;43mEnter a number: \u001b[39;49m\u001b[38;5;124;43m\"\u001b[39;49m\u001b[43m)\u001b[49m\u001b[43m)\u001b[49m\n\u001b[0;32m      4\u001b[0m f \u001b[38;5;241m=\u001b[39m (\u001b[38;5;241m9\u001b[39m\u001b[38;5;241m/\u001b[39m\u001b[38;5;241m5\u001b[39m \u001b[38;5;241m*\u001b[39mc)\u001b[38;5;241m+\u001b[39m\u001b[38;5;241m32\u001b[39m\n\u001b[0;32m      5\u001b[0m \u001b[38;5;28mprint\u001b[39m(\u001b[38;5;124m\"\u001b[39m\u001b[38;5;124mTemperature in fahrenheit:\u001b[39m\u001b[38;5;124m\"\u001b[39m, f)\n",
      "\u001b[1;31mValueError\u001b[0m: could not convert string to float: ''"
     ]
    }
   ],
   "source": [
    "# Write a program to convert temperature from Celsius to Fahrenheit.\n",
    "\n",
    "c = float(input(\"Enter a number: \"))\n",
    "f = (9/5 *c)+32\n",
    "print(\"Temperature in fahrenheit:\", f)"
   ]
  },
  {
   "cell_type": "code",
   "execution_count": 5,
   "metadata": {},
   "outputs": [
    {
     "name": "stdout",
     "output_type": "stream",
     "text": [
      "957.0\n",
      "-823.0\n",
      "59630.0\n",
      "0.07528089887640449\n"
     ]
    }
   ],
   "source": [
    "# Create a program that takes two numbers as input and prints their sum, difference, product, and quotient.\n",
    "num1 = float(input(\"Enter first number: \"))\n",
    "num2 = float(input(\"Enter second number: \"))\n",
    "print(num1 +num2)\n",
    "print(num1 - num2)\n",
    "print( num1 * num2)\n",
    "print(num1 / num2)\n"
   ]
  },
  {
   "cell_type": "code",
   "execution_count": 9,
   "metadata": {},
   "outputs": [
    {
     "name": "stdout",
     "output_type": "stream",
     "text": [
      "The word is not palindrome.\n"
     ]
    }
   ],
   "source": [
    "# Write a program to check if a string is a palindrome (reads the same backward as forward).\n",
    "my_string = input(\"Enter a word: \")\n",
    "reversed_word = my_string[::-1]\n",
    "if my_string == reversed_word:\n",
    "    print(f\"The word is palindrome.\")\n",
    "\n",
    "else:\n",
    "    print(f\"The word is not palindrome.\")"
   ]
  },
  {
   "cell_type": "code",
   "execution_count": 18,
   "metadata": {},
   "outputs": [
    {
     "name": "stdout",
     "output_type": "stream",
     "text": [
      "The conversion of 130 is 0hrs, 2mins and 10secs.\n"
     ]
    }
   ],
   "source": [
    "# Create a program that converts a given number of seconds into hours, minutes, and seconds.\n",
    "seconds = int(input(\"Enter the seconds: \"))\n",
    "hours = seconds//3600\n",
    "mins = (seconds%3600) //60\n",
    "rem_seconds = seconds % 60\n",
    "print(f\"The conversion of {seconds} is {hours}hrs, {mins}mins and {rem_seconds}secs.\")\n",
    "\n"
   ]
  },
  {
   "cell_type": "code",
   "execution_count": 21,
   "metadata": {},
   "outputs": [
    {
     "name": "stdout",
     "output_type": "stream",
     "text": [
      "<class 'float'>\n"
     ]
    }
   ],
   "source": [
    "# Write a program to find the data type of a user-input value.\n",
    "user_input = 56.6\n",
    "print(type(user_input))"
   ]
  },
  {
   "cell_type": "code",
   "execution_count": 24,
   "metadata": {},
   "outputs": [
    {
     "name": "stdout",
     "output_type": "stream",
     "text": [
      "The value of a is: 6\n",
      "The value of b is: 5\n"
     ]
    }
   ],
   "source": [
    "# Write a program to swap two variables without using a third variable.\n",
    "a = 5\n",
    "b = 6\n",
    "\n",
    "a, b = b, a\n",
    "print(\"The value of a is:\", a)\n",
    "print(\"The value of b is:\", b)"
   ]
  },
  {
   "cell_type": "code",
   "execution_count": 26,
   "metadata": {},
   "outputs": [
    {
     "name": "stdout",
     "output_type": "stream",
     "text": [
      "Hello Susma, you are 50 years old.\n"
     ]
    }
   ],
   "source": [
    "# Create a program that takes a user's name and age as input and prints a message like: \"Hello [Name], you are [Age] years old.\"\n",
    "name = input(\"Enter your name: \")\n",
    "age = int(input(\"Enter your age: \"))\n",
    "print(f\"Hello {name}, you are {age} years old.\")"
   ]
  },
  {
   "cell_type": "markdown",
   "metadata": {},
   "source": [
    "# Conditionals"
   ]
  },
  {
   "cell_type": "code",
   "execution_count": 27,
   "metadata": {},
   "outputs": [
    {
     "name": "stdout",
     "output_type": "stream",
     "text": [
      "90 is the greatest number.\n"
     ]
    }
   ],
   "source": [
    "# Write a program to find the largest of three numbers.\n",
    "num1 = int(input(\"Enter the first num: \"))\n",
    "num2 = int(input(\"Enter the second num: \"))\n",
    "num3 = int(input(\"Enter the third num: \"))\n",
    "\n",
    "if (num1>num2) and (num1>num3):\n",
    "    print(f'{num1} is the greatest number.')\n",
    "elif (num2>num3) and (num2>num1):\n",
    "    print(f'{num2} is the greatest number.')\n",
    "else:\n",
    "    print(f'{num3} is the greatest number.')\n",
    "\n"
   ]
  },
  {
   "cell_type": "code",
   "execution_count": 32,
   "metadata": {},
   "outputs": [
    {
     "name": "stdout",
     "output_type": "stream",
     "text": [
      "2024 is a leap year.\n"
     ]
    }
   ],
   "source": [
    "# Create a program that checks if a year is a leap year.\n",
    "year = int(input(\"Enter a year: \"))\n",
    "if (year%4 == 0) or (year% 400 == 0):\n",
    "    print(f\"{year} is a leap year.\")\n",
    "else:\n",
    "    print(f\"{year} is not a leap year.\")\n"
   ]
  },
  {
   "cell_type": "code",
   "execution_count": 37,
   "metadata": {},
   "outputs": [
    {
     "name": "stdout",
     "output_type": "stream",
     "text": [
      "The triangle is isosceles triangle.\n"
     ]
    }
   ],
   "source": [
    "# Write a program to determine if a triangle is equilateral, isosceles, or scalene based on its side lengths.\n",
    "len1= float(input(\"Enter the first length: \"))\n",
    "len2= float(input(\"Enter the second  length: \"))\n",
    "len3= float(input(\"Enter the third length: \"))\n",
    "\n",
    "if (len1 == len2== len3):\n",
    "    print(\"The triangle is the equilateral triangle.\")\n",
    "elif (len1 == len2) or (len2 == len3) or (len3 == len1):\n",
    "    print(\"The triangle is isosceles triangle.\")\n",
    "else:\n",
    "    print(\"The traingle is scalene traingle.\")\n"
   ]
  },
  {
   "cell_type": "code",
   "execution_count": 63,
   "metadata": {},
   "outputs": [
    {
     "name": "stdout",
     "output_type": "stream",
     "text": [
      "The char is a consonant.\n"
     ]
    }
   ],
   "source": [
    "# Create a program that checks if a character is a vowel or consonant.\n",
    "char = input(\"Enter a word: \").lower()\n",
    "if char.isalpha():\n",
    "    if char in \"aeiou\":\n",
    "        print(\"The char is a vowel.\")\n",
    "    else:\n",
    "        print(\"The char is a consonant.\")"
   ]
  },
  {
   "cell_type": "code",
   "execution_count": 64,
   "metadata": {},
   "outputs": [
    {
     "name": "stdout",
     "output_type": "stream",
     "text": [
      "The student has scored B.\n"
     ]
    }
   ],
   "source": [
    "# Write a program to calculate the grade of a student based on their marks (A, B, C, D, F).\n",
    "marks = int(input(\"Enter a mark: \"))\n",
    "if (marks >= 90):\n",
    "    print(\"The student has scored A.\")\n",
    "elif (80<= marks<90):\n",
    "    print(\"The student has scored B.\")\n",
    "elif (70<=marks<80):\n",
    "    print(\"The student has scored C.\")\n",
    "elif (60<= marks<70):\n",
    "    print(\"The student has scored D.\")\n",
    "elif (50<= marks<60):\n",
    "    print(\"The student has scored E.\")\n",
    "else:\n",
    "    print(\"The student is failed.\")"
   ]
  },
  {
   "cell_type": "code",
   "execution_count": 66,
   "metadata": {},
   "outputs": [
    {
     "name": "stdout",
     "output_type": "stream",
     "text": [
      "The number is zero.\n"
     ]
    }
   ],
   "source": [
    "# Write a program to check if a number is positive, negative, or zero.\n",
    "num = int(input(\"Enter a number: \"))\n",
    "if (num>0):\n",
    "    print(\"The number is positive.\")\n",
    "elif(num<0):\n",
    "    print(\"The number is negative.\")\n",
    "else:\n",
    "    print(\"The number is zero.\")\n"
   ]
  },
  {
   "cell_type": "code",
   "execution_count": 67,
   "metadata": {},
   "outputs": [
    {
     "name": "stdout",
     "output_type": "stream",
     "text": [
      "The number is odd.\n"
     ]
    }
   ],
   "source": [
    "# Create a program that takes a number as input and prints whether it is even or odd.\n",
    "num = int(input(\"Enter a number: \"))\n",
    "if (num%2 == 0):\n",
    "    print(\"The number is even.\")\n",
    "else:\n",
    "    print(\"The number is odd.\")"
   ]
  },
  {
   "cell_type": "markdown",
   "metadata": {},
   "source": [
    " # Loops"
   ]
  },
  {
   "cell_type": "code",
   "execution_count": 69,
   "metadata": {},
   "outputs": [
    {
     "name": "stdout",
     "output_type": "stream",
     "text": [
      "5x1 = 5\n",
      "5x2 = 10\n",
      "5x3 = 15\n",
      "5x4 = 20\n",
      "5x5 = 25\n",
      "5x6 = 30\n",
      "5x7 = 35\n",
      "5x8 = 40\n",
      "5x9 = 45\n",
      "5x10 = 50\n"
     ]
    }
   ],
   "source": [
    "# Write a program to print the multiplication table of a given number.\n",
    "n = int(input(\"Enter a number: \"))\n",
    "for i in range(1, 11):\n",
    "    print(f\"{n}x{i} = {n*i}\")"
   ]
  },
  {
   "cell_type": "code",
   "execution_count": 73,
   "metadata": {},
   "outputs": [
    {
     "name": "stdout",
     "output_type": "stream",
     "text": [
      "The total sum is 5050.\n"
     ]
    }
   ],
   "source": [
    "# Create a program to find the sum of all numbers from 1 to 100 using a loop.\n",
    "total_sum = 0\n",
    "for i in range(1, 101):\n",
    "    total_sum+=i\n",
    "print(f\"The total sum is {total_sum}.\")"
   ]
  },
  {
   "cell_type": "code",
   "execution_count": 76,
   "metadata": {},
   "outputs": [
    {
     "name": "stdout",
     "output_type": "stream",
     "text": [
      "The total sum between even numbers from 1 to 100 is 2550.\n"
     ]
    }
   ],
   "source": [
    "# Write a program to calculate the sum of all even numbers between 1 and 100 using a for loop.\n",
    "total_sum = 0\n",
    "for i in range(2, 101, 2):\n",
    "    total_sum+=i\n",
    "print(f\"The total sum between even numbers from 1 to 100 is {total_sum}.\")"
   ]
  },
  {
   "cell_type": "code",
   "execution_count": 80,
   "metadata": {},
   "outputs": [
    {
     "name": "stdout",
     "output_type": "stream",
     "text": [
      "Fibonacci sequence are: \n",
      "0 1 1 2 3 5 8 13 21 34 "
     ]
    }
   ],
   "source": [
    "# Write a program to print the Fibonacci sequence up to a given number.\n",
    "n = int(input(\"Enter a number: \"))\n",
    "a, b = 0, 1\n",
    "print(\"Fibonacci sequence are: \")\n",
    "for i in range(1, n+1):\n",
    "    print(a , end = \" \")\n",
    "    a, b = b, a+b"
   ]
  },
  {
   "cell_type": "code",
   "execution_count": 101,
   "metadata": {},
   "outputs": [
    {
     "name": "stdout",
     "output_type": "stream",
     "text": [
      "6\n"
     ]
    }
   ],
   "source": [
    "# Create a program to find the factorial of a number using a for loop.\n",
    "n = int(input(\"Enter a number: \"))\n",
    "facto= 1\n",
    "for i in range(1, n+1):\n",
    "    facto*=i\n",
    "   \n",
    "print(facto)"
   ]
  },
  {
   "cell_type": "code",
   "execution_count": 10,
   "metadata": {},
   "outputs": [
    {
     "name": "stdout",
     "output_type": "stream",
     "text": [
      "2 3 5 7 11 13 17 19 23 29 31 37 41 43 47 53 59 61 67 71 73 79 83 89 97 "
     ]
    }
   ],
   "source": [
    "# Write a program to print all prime numbers between 1 and 100.\n",
    "for num in range(2, 101):\n",
    "    is_prime = True\n",
    "    for i in range(2, int(num**0.5)+1):\n",
    "        if num%i == 0:\n",
    "            is_prime =  False\n",
    "            break\n",
    "    \n",
    "    if is_prime == True:\n",
    "        print(num, end = \" \")\n",
    "\n",
    "\n",
    "\n",
    "\n",
    "\n",
    "    "
   ]
  },
  {
   "cell_type": "code",
   "execution_count": 15,
   "metadata": {},
   "outputs": [
    {
     "name": "stdout",
     "output_type": "stream",
     "text": [
      "Sum of total digits: 11\n"
     ]
    }
   ],
   "source": [
    "# Create a program to find the sum of digits of a number using a while loop\n",
    "n = int(input(\"Enter a number: \"))\n",
    "total_sum = 0\n",
    "while n >0:\n",
    "    last_digit= n%10\n",
    "    total_sum+=last_digit\n",
    "    n=n//10\n",
    "\n",
    "print(\"Sum of total digits:\", total_sum)\n",
    "\n"
   ]
  },
  {
   "cell_type": "code",
   "execution_count": 20,
   "metadata": {},
   "outputs": [
    {
     "name": "stdout",
     "output_type": "stream",
     "text": [
      "The reversed form: 76\n"
     ]
    }
   ],
   "source": [
    "# Write a program to reverse a number using a while loop.\n",
    "number = int(input(\"Enter a number: \"))\n",
    "reversed_number = 0\n",
    "\n",
    "while number >0:\n",
    "    last_digit=number%10\n",
    "    reversed_number = (reversed_number*10) +last_digit\n",
    "    number = number // 10\n",
    "\n",
    "print(\"The reversed form:\", reversed_number)"
   ]
  },
  {
   "cell_type": "code",
   "execution_count": 11,
   "metadata": {},
   "outputs": [
    {
     "name": "stdout",
     "output_type": "stream",
     "text": [
      "NOt a plaindrome number.\n"
     ]
    }
   ],
   "source": [
    "# Create a program to check if a number is a palindrome using a while loop.\n",
    "number = int(input(\"Enter number: \"))\n",
    "original_number = number\n",
    "reversed_number = 0\n",
    "while number> 0:\n",
    "        last_digit= number %10\n",
    "        reversed_number = (reversed_number *10)+ last_digit\n",
    "        number = number//10 \n",
    "\n",
    "if original_number == reversed_number:\n",
    "        print(\"The number is palindrome.\")\n",
    "else:\n",
    "        print(\"NOt a plaindrome number.\")"
   ]
  },
  {
   "cell_type": "code",
   "execution_count": 12,
   "metadata": {},
   "outputs": [
    {
     "name": "stdout",
     "output_type": "stream",
     "text": [
      "1\n",
      "2\n",
      "3\n",
      "4\n",
      "6\n",
      "7\n",
      "8\n",
      "9\n",
      "11\n",
      "12\n",
      "13\n",
      "14\n",
      "16\n",
      "17\n",
      "18\n",
      "19\n",
      "21\n",
      "22\n",
      "23\n",
      "24\n",
      "26\n",
      "27\n",
      "28\n",
      "29\n",
      "31\n",
      "32\n",
      "33\n",
      "34\n",
      "36\n",
      "37\n",
      "38\n",
      "39\n",
      "41\n",
      "42\n",
      "43\n",
      "44\n",
      "46\n",
      "47\n",
      "48\n",
      "49\n",
      "51\n",
      "52\n",
      "53\n",
      "54\n",
      "56\n",
      "57\n",
      "58\n",
      "59\n",
      "61\n",
      "62\n",
      "63\n",
      "64\n",
      "66\n",
      "67\n",
      "68\n",
      "69\n",
      "71\n",
      "72\n",
      "73\n",
      "74\n",
      "76\n",
      "77\n",
      "78\n",
      "79\n",
      "81\n",
      "82\n",
      "83\n",
      "84\n",
      "86\n",
      "87\n",
      "88\n",
      "89\n",
      "91\n",
      "92\n",
      "93\n",
      "94\n",
      "96\n",
      "97\n",
      "98\n",
      "99\n"
     ]
    }
   ],
   "source": [
    "# Write a program to print all numbers between 1 and 100, skipping multiples of 5 using continue.\n",
    "\n",
    "for i in range(1, 101):\n",
    "    if i% 5 == 0:\n",
    "        continue\n",
    "    print(i)\n"
   ]
  },
  {
   "cell_type": "code",
   "execution_count": 17,
   "metadata": {},
   "outputs": [
    {
     "name": "stdout",
     "output_type": "stream",
     "text": [
      "63\n"
     ]
    }
   ],
   "source": [
    "# Create a program to find the first number divisible by 7 and 9 between 1 and 100 using break\n",
    "for num in range(1, 101):\n",
    "    if (num%7 == 0) and (num% 9 == 0):\n",
    "        print(num)\n",
    "        break"
   ]
  },
  {
   "cell_type": "code",
   "execution_count": 19,
   "metadata": {},
   "outputs": [
    {
     "name": "stdout",
     "output_type": "stream",
     "text": [
      "1\n",
      "2\n",
      "3\n",
      "4\n",
      "5\n",
      "6\n",
      "7\n",
      "8\n",
      "9\n",
      "10\n",
      "11\n",
      "12\n"
     ]
    }
   ],
   "source": [
    "# Write a program to print all numbers between 1 and 50, stopping if a number divisible by 13 is encountered using break.\n",
    "for num in range(1, 51):\n",
    "    if (num % 13 == 0):\n",
    "        break\n",
    "    print(num)"
   ]
  },
  {
   "cell_type": "markdown",
   "metadata": {},
   "source": [
    "# Functions"
   ]
  },
  {
   "cell_type": "code",
   "execution_count": 20,
   "metadata": {},
   "outputs": [
    {
     "name": "stdout",
     "output_type": "stream",
     "text": [
      "The area of rectangle is 247.5.\n"
     ]
    }
   ],
   "source": [
    "# Write a function to calculate the area of a rectangle given its length and width.\n",
    "def area(length, width):\n",
    "    area = length* width\n",
    "    return area\n",
    "\n",
    "length =float(input(\"Enter a lenth: \"))\n",
    "width =float(input(\"Enter a width: \"))\n",
    "print(f\"The area of rectangle is {area(length, width)}.\")"
   ]
  },
  {
   "cell_type": "code",
   "execution_count": 37,
   "metadata": {},
   "outputs": [
    {
     "name": "stdout",
     "output_type": "stream",
     "text": [
      "76 is an even.\n"
     ]
    }
   ],
   "source": [
    "# Create a function to check if a number is even or odd.\n",
    "\n",
    "def check_odd_or_even(number):\n",
    "    return (number%2 == 0)\n",
    "\n",
    "number = int(input(\"Enter a number: \"))\n",
    "if check_odd_or_even(number):\n",
    "    print(f\"{number} is  even.\")\n",
    "else:\n",
    "    print(f\"{number} is odd.\")\n"
   ]
  },
  {
   "cell_type": "code",
   "execution_count": 40,
   "metadata": {},
   "outputs": [
    {
     "name": "stdout",
     "output_type": "stream",
     "text": [
      "12\n"
     ]
    }
   ],
   "source": [
    "# Write a function to calculate the sum of all numbers in a list.\n",
    "def total_sum(my_list):\n",
    "    total_sum = 0\n",
    "    for num in my_list:\n",
    "        total_sum+=num\n",
    "    return total_sum\n",
    "\n",
    "my_list = [1,2,4,5]\n",
    "print(total_sum(my_list))"
   ]
  },
  {
   "cell_type": "code",
   "execution_count": 42,
   "metadata": {},
   "outputs": [
    {
     "name": "stdout",
     "output_type": "stream",
     "text": [
      "amsuS\n"
     ]
    }
   ],
   "source": [
    "# Create a function to reverse a string.\n",
    "def reverse(my_string):\n",
    "    reversed_string = my_string[::-1]\n",
    "    return reversed_string\n",
    "my_string = \"Susma\"\n",
    "print(reverse(my_string))"
   ]
  },
  {
   "cell_type": "code",
   "execution_count": 7,
   "metadata": {},
   "outputs": [
    {
     "name": "stdout",
     "output_type": "stream",
     "text": [
      "8\n"
     ]
    }
   ],
   "source": [
    "# Write a function to calculate the power of a number (e.g., power(2, 3) returns 8\n",
    "def power(base, pow):\n",
    "    if not isinstance(base, (int, float)) or not isinstance(pow, (int, float)):\n",
    "        raise TypeError\n",
    "    return base**pow\n",
    "\n",
    "base = 2\n",
    "pow = 3\n",
    "\n",
    "print(power(base, pow))"
   ]
  },
  {
   "cell_type": "code",
   "execution_count": 16,
   "metadata": {},
   "outputs": [
    {
     "name": "stdout",
     "output_type": "stream",
     "text": [
      "False\n"
     ]
    }
   ],
   "source": [
    "# Write a function to check if a string is a palindrome and return True or False.\n",
    "\n",
    "def check_palindrome(my_string):\n",
    "   new_string = \"\".join(char.lower() for char in my_string if char.isalnum())\n",
    "   return new_string == new_string[::-1]\n",
    "\n",
    "my_string = input(\"Enter some string: \")\n",
    "print(check_palindrome(my_string))"
   ]
  },
  {
   "cell_type": "code",
   "execution_count": 22,
   "metadata": {},
   "outputs": [
    {
     "name": "stdout",
     "output_type": "stream",
     "text": [
      "2.0\n"
     ]
    }
   ],
   "source": [
    "# Create a function to calculate the average of numbers in a list and return the result.\n",
    "\n",
    "def average(my_list):\n",
    "    total = 0\n",
    "    for item in my_list:\n",
    "        total+=item\n",
    "    average = total / len(my_list)\n",
    "    return average\n",
    "\n",
    "\n",
    "my_list = [1,3]\n",
    "print(average(my_list))\n"
   ]
  },
  {
   "cell_type": "code",
   "execution_count": 33,
   "metadata": {},
   "outputs": [
    {
     "name": "stdout",
     "output_type": "stream",
     "text": [
      "[2, 4, 6, 6, 79790, 0]\n"
     ]
    }
   ],
   "source": [
    "# Write a function that takes a list of numbers and returns a new list with only the even numbers.\n",
    "def even_numbered(my_list):\n",
    "    new_list = []\n",
    "    for item in my_list:\n",
    "        if item%2 == 0:\n",
    "             new_list.append(item)\n",
    "    return new_list\n",
    "    \n",
    "my_list = [1,2,3,4,5,6,6,79790,0,89]\n",
    "print(even_numbered(my_list))\n"
   ]
  },
  {
   "cell_type": "code",
   "execution_count": 13,
   "metadata": {},
   "outputs": [
    {
     "name": "stdout",
     "output_type": "stream",
     "text": [
      "8\n"
     ]
    }
   ],
   "source": [
    "# Create a function that takes a string and returns the number of vowels in it.\n",
    "def vowel_calculation(my_string):\n",
    "    total_count = 0\n",
    "    for char in my_string:\n",
    "        if char in \"aeiou\":\n",
    "            total_count+=1\n",
    "    return total_count\n",
    "    \n",
    "vowel_to_be_counted = \"a\"\n",
    "my_string = input(\"Enter a word: \").lower()\n",
    "print(vowel_calculation(my_string))"
   ]
  },
  {
   "cell_type": "code",
   "execution_count": 28,
   "metadata": {},
   "outputs": [
    {
     "name": "stdout",
     "output_type": "stream",
     "text": [
      "Syushehfiueh\n"
     ]
    }
   ],
   "source": [
    "# Write a function that takes a list of strings and returns the longest string.\n",
    "\n",
    "def longest(my_string):\n",
    "    longest_string = my_string[0]\n",
    "    for item in my_string:\n",
    "        if len(item)> len(longest_string):\n",
    "            longest_string = item\n",
    "    return longest_string\n",
    "    \n",
    "my_string = [\"Syushehfiueh\", \"susma\", \"jhfuie\"]\n",
    "print(longest(my_string))"
   ]
  },
  {
   "cell_type": "code",
   "execution_count": 38,
   "metadata": {},
   "outputs": [
    {
     "name": "stdout",
     "output_type": "stream",
     "text": [
      "[5, 6, 7, 8, 8, 9]\n"
     ]
    }
   ],
   "source": [
    "# Create a function that takes a number and returns a list of its digits.\n",
    "\n",
    "def func(number):\n",
    "    my_list = []\n",
    "    for digit in str(number):\n",
    "        my_list.append(int(digit))\n",
    "    return my_list\n",
    "\n",
    "number = (input(\"Enter some numbers: \"))\n",
    "print(func(number))"
   ]
  },
  {
   "cell_type": "code",
   "execution_count": 45,
   "metadata": {},
   "outputs": [
    {
     "name": "stdout",
     "output_type": "stream",
     "text": [
      "89\n"
     ]
    }
   ],
   "source": [
    "# Write a function that takes a list of numbers and returns the second-largest number\n",
    "def second_largest_num(my_list):\n",
    "    largest_num = max(my_list)\n",
    "    my_list.remove(largest_num)\n",
    "    second_largest_num = max(my_list)\n",
    "    return second_largest_num\n",
    "\n",
    "\n",
    "my_list = [1,2,5,89,90]\n",
    "print(second_largest_num(my_list))"
   ]
  },
  {
   "cell_type": "code",
   "execution_count": 46,
   "metadata": {},
   "outputs": [
    {
     "name": "stdout",
     "output_type": "stream",
     "text": [
      "[2, 4, 6, 8, 10]\n"
     ]
    }
   ],
   "source": [
    "# Write a function that filters out all odd numbers from a list using filter.\n",
    "def filter_odds(numbers):\n",
    "    return list(filter(lambda x: x % 2 == 0, numbers))\n",
    "\n",
    "my_list = [1, 2, 3, 4, 5, 6, 7, 8, 9, 10]\n",
    "print(filter_odds(my_list))  \n",
    "\n"
   ]
  },
  {
   "cell_type": "code",
   "execution_count": 51,
   "metadata": {},
   "outputs": [
    {
     "name": "stdout",
     "output_type": "stream",
     "text": [
      "Generated password: Fnd-,PsTFN__\n"
     ]
    }
   ],
   "source": [
    "# Write a function to generate a random password of a given length.\n",
    "import string\n",
    "import random\n",
    "def password_generator(length):\n",
    "    if length < 8:\n",
    "        raise ValueError\n",
    "    characters = string.ascii_letters + string.digits+ string.punctuation\n",
    "    password = ''.join(random.choice(characters) for _ in range(length))\n",
    "\n",
    "    return password\n",
    "\n",
    "password = password_generator(12)\n",
    "print(\"Generated password:\", password)\n"
   ]
  },
  {
   "cell_type": "code",
   "execution_count": 10,
   "metadata": {},
   "outputs": [
    {
     "name": "stdout",
     "output_type": "stream",
     "text": [
      "dict_values([1, 4, 1, 1])\n",
      "2\n"
     ]
    }
   ],
   "source": [
    "# question2: Implement a program to find the most frequent element in a list.\n",
    "def find_frequent_element( my_lsit):\n",
    "    count_element = {}\n",
    "    for item in my_list:\n",
    "        if item in count_element:\n",
    "            count_element[item]+=1\n",
    "        else:\n",
    "            count_element[item]=1\n",
    "    print(count_element.values())\n",
    "\n",
    "    frequent_element = max(count_element, key = count_element.get)\n",
    "    return frequent_element\n",
    "\n",
    "\n",
    "\n",
    "    \n",
    "\n",
    "my_list = [1,2,2,2,23,4,2]\n",
    "print(find_frequent_element(my_list))\n",
    "\n"
   ]
  },
  {
   "cell_type": "markdown",
   "metadata": {},
   "source": [
    "# Data Structures"
   ]
  },
  {
   "cell_type": "code",
   "execution_count": 53,
   "metadata": {},
   "outputs": [
    {
     "name": "stdout",
     "output_type": "stream",
     "text": [
      "89\n"
     ]
    }
   ],
   "source": [
    "# Write a program to find the second-largest number in a list.\n",
    "list1 = [1,2,4,89,90,78]\n",
    "largest_num = max(list1)\n",
    "list1.remove(largest_num)\n",
    "second_largest_num = max(list1)\n",
    "print(second_largest_num)\n"
   ]
  },
  {
   "cell_type": "code",
   "execution_count": null,
   "metadata": {},
   "outputs": [],
   "source": [
    "# Create a program to sort a list of numbers in ascending order without using built-in functions.\n",
    "\n",
    "\n"
   ]
  },
  {
   "cell_type": "code",
   "execution_count": 2,
   "metadata": {},
   "outputs": [
    {
     "name": "stdout",
     "output_type": "stream",
     "text": [
      "[5, 6]\n"
     ]
    }
   ],
   "source": [
    "# Write a program to find the common elements between two lists.\n",
    "list1 = [1,2,3,45,5,6]\n",
    "list2= [5,6,34,56]\n",
    "common_elements = list(set(list1) &  set(list2))\n",
    "print(common_elements)"
   ]
  },
  {
   "cell_type": "code",
   "execution_count": 7,
   "metadata": {},
   "outputs": [
    {
     "name": "stdout",
     "output_type": "stream",
     "text": [
      "[1, 2, 34, 5, 6, 7, 90]\n"
     ]
    }
   ],
   "source": [
    "# Create a program to remove all occurrences of a specific element from a list.\n",
    "\n",
    "my_list = [1,2,34,5,6,7,8,8,8,90]\n",
    "element_to_remove = 8\n",
    "for i in range(len(my_list) -1, -1, -1):\n",
    "    if my_list[i]==element_to_remove:\n",
    "        del my_list[i]\n",
    "\n",
    "\n",
    "print(my_list)       "
   ]
  },
  {
   "cell_type": "code",
   "execution_count": 8,
   "metadata": {},
   "outputs": [
    {
     "name": "stdout",
     "output_type": "stream",
     "text": [
      "[2, 4, 6, 8]\n",
      "[1, 3, 5, 7, 9]\n"
     ]
    }
   ],
   "source": [
    "# Write a program to split a list into two lists, one for even numbers and one for odd numbers.\n",
    "my_list = [1,2,3,4,5,6,7,8,9]\n",
    "list1 = []\n",
    "list2 = []\n",
    "for item in my_list:\n",
    "    if (item%2 == 0):\n",
    "        list1.append(item)\n",
    "    else:\n",
    "        list2.append(item)\n",
    "\n",
    "print(list1)\n",
    "print(list2)"
   ]
  },
  {
   "cell_type": "code",
   "execution_count": 7,
   "metadata": {},
   "outputs": [
    {
     "name": "stdout",
     "output_type": "stream",
     "text": [
      "5\n"
     ]
    }
   ],
   "source": [
    "# Write a program to count the number of words in a sentence.\n",
    "sentence = \"My name is Susma Rokka.\"\n",
    "new_senetence = sentence.split()\n",
    "print(len(new_senetence))\n",
    "\n"
   ]
  },
  {
   "cell_type": "code",
   "execution_count": 10,
   "metadata": {},
   "outputs": [
    {
     "name": "stdout",
     "output_type": "stream",
     "text": [
      "The strings are anagram of one another.\n"
     ]
    }
   ],
   "source": [
    "# Create a program to check if a string is an anagram of another string.\n",
    "string1 = input(\"Enter a word: \")\n",
    "string2 = input(\"Enter a word: \")\n",
    "string1 = string1.replace(\" \", \"\").lower()\n",
    "string2 = string2.replace(\" \", \"\").lower()\n",
    "\n",
    "if sorted(string1) == sorted(string2):\n",
    "    print(\"The strings are anagram of one another.\")\n",
    "else:\n",
    "    print(\"The strings are not  anagram of one another.\")\n"
   ]
  },
  {
   "cell_type": "code",
   "execution_count": 12,
   "metadata": {},
   "outputs": [
    {
     "data": {
      "text/plain": [
       "'I Am Susma Rokka.'"
      ]
     },
     "execution_count": 12,
     "metadata": {},
     "output_type": "execute_result"
    }
   ],
   "source": [
    "# Write a program to capitalize the first letter of each word in a sentence.\n",
    "sentence = \"I am susma rokka.\"\n",
    "sentence.title()"
   ]
  },
  {
   "cell_type": "code",
   "execution_count": 16,
   "metadata": {},
   "outputs": [
    {
     "name": "stdout",
     "output_type": "stream",
     "text": [
      "I-am-Susma-Rokka-who-is-trying-to-become-a-data-analyst.\n"
     ]
    }
   ],
   "source": [
    "# Create a program to replace all spaces in a string with hyphens (-).\n",
    "sentence = \"I am Susma Rokka who is trying to become a data analyst.\"\n",
    "sentence = sentence.replace(\" \", \"-\")\n",
    "print(sentence)"
   ]
  },
  {
   "cell_type": "code",
   "execution_count": 32,
   "metadata": {},
   "outputs": [
    {
     "name": "stdout",
     "output_type": "stream",
     "text": [
      "hguithgirhugtju.\n"
     ]
    }
   ],
   "source": [
    "# Write a program to find the longest word in a sentence\n",
    "sentence = \"I am Susma Rokka who is trying to become a data analyst hguithgirhugtju.\"\n",
    "longest_word = \"\"\n",
    "new_sentence = sentence.split()\n",
    "for word in new_sentence:\n",
    "    if len(word)>len(longest_word):\n",
    "        longest_word = word\n",
    "print(longest_word)\n"
   ]
  },
  {
   "cell_type": "code",
   "execution_count": 34,
   "metadata": {},
   "outputs": [
    {
     "name": "stdout",
     "output_type": "stream",
     "text": [
      "{'apple': 2, 'banana': 1, 'cherry': 5, 'date': 4, 'elderberry': 3}\n"
     ]
    }
   ],
   "source": [
    "# Write a program to sort a dictionary by its keys.\n",
    "sample_dict = {\n",
    "    'apple': 2,\n",
    "    'banana': 1,\n",
    "    'cherry': 5,\n",
    "    'date': 4,\n",
    "    'elderberry': 3\n",
    "}\n",
    "\n",
    "sorted_dict = dict(sorted(sample_dict.items()))\n",
    "\n",
    "print(sorted_dict)\n"
   ]
  },
  {
   "cell_type": "code",
   "execution_count": 39,
   "metadata": {},
   "outputs": [
    {
     "name": "stdout",
     "output_type": "stream",
     "text": [
      "cherry\n"
     ]
    }
   ],
   "source": [
    "# Create a program to find the key with the maximum value in a dictionary.\n",
    "max_value =max(sample_dict, key = sample_dict.get)\n",
    "print(max_value)"
   ]
  },
  {
   "cell_type": "code",
   "execution_count": 40,
   "metadata": {},
   "outputs": [
    {
     "name": "stdout",
     "output_type": "stream",
     "text": [
      "{'apple': 2, 'banana': 1, 'cherry': 5, 'date': 4}\n"
     ]
    }
   ],
   "source": [
    "# Write a program to combine two dictionaries into one.\n",
    "dict1 = {\n",
    "    'apple': 2,\n",
    "    'banana': 1\n",
    "}\n",
    "dict2 = {\n",
    "    'cherry': 5,\n",
    "    'date': 4\n",
    "}\n",
    "\n",
    "combined_dict = {**dict1, **dict2}\n",
    "\n",
    "print(combined_dict)\n"
   ]
  },
  {
   "cell_type": "code",
   "execution_count": 46,
   "metadata": {},
   "outputs": [
    {
     "name": "stdout",
     "output_type": "stream",
     "text": [
      "{'M': 1, 'y': 1, ' ': 4, 'n': 1, 'a': 3, 'm': 2, 'e': 1, 'i': 1, 's': 2, 'S': 1, 'u': 1, 'R': 1, 'o': 1, 'k': 2, '.': 1}\n"
     ]
    }
   ],
   "source": [
    "# Create a program to count the frequency of each character in a string using a dictionary.\n",
    "my_string = \"My name is Susma Rokka.\"\n",
    "my_dict = {}\n",
    "for char in my_string:\n",
    "    if char in my_dict:\n",
    "        my_dict[char]+=1\n",
    "    else:\n",
    "        my_dict[char]=1\n",
    "print(my_dict)"
   ]
  },
  {
   "cell_type": "code",
   "execution_count": 47,
   "metadata": {},
   "outputs": [
    {
     "name": "stdout",
     "output_type": "stream",
     "text": [
      "{'name': 'Susma Rokka', 'age': 21, 'department': 'Computer Science', 'grade': 'A'}\n",
      "{'name': 'John Doe', 'age': 22, 'department': 'Electrical Engineering', 'grade': 'B+'}\n",
      "{'name': 'Alice Smith', 'age': 20, 'department': 'Mechanical Engineering', 'grade': 'A-'}\n"
     ]
    }
   ],
   "source": [
    "# write a program to store the information of a students in a dictionary (name, age, department, grade, etc) in a nested data i.e list of dictionaries\n",
    "students = []\n",
    "\n",
    "students.append({\n",
    "    'name': 'Susma Rokka',\n",
    "    'age': 21,\n",
    "    'department': 'Computer Science',\n",
    "    'grade': 'A'\n",
    "})\n",
    "\n",
    "students.append({\n",
    "    'name': 'John Doe',\n",
    "    'age': 22,\n",
    "    'department': 'Electrical Engineering',\n",
    "    'grade': 'B+'\n",
    "})\n",
    "\n",
    "students.append({\n",
    "    'name': 'Alice Smith',\n",
    "    'age': 20,\n",
    "    'department': 'Mechanical Engineering',\n",
    "    'grade': 'A-'\n",
    "})\n",
    "for student in students:\n",
    "    print(student)\n"
   ]
  },
  {
   "cell_type": "markdown",
   "metadata": {},
   "source": [
    "# List Comprehension"
   ]
  },
  {
   "cell_type": "code",
   "execution_count": 3,
   "metadata": {},
   "outputs": [
    {
     "name": "stdout",
     "output_type": "stream",
     "text": [
      "[1, 4, 9, 16, 6084]\n"
     ]
    }
   ],
   "source": [
    "# Write a program to create a list of tuples where each tuple contains a number and its square.\n",
    "\n",
    "my_list = [(1), (2), (3), (4), (78)]\n",
    "new_list = [x **2 for x in my_list]\n",
    "print(new_list)"
   ]
  },
  {
   "cell_type": "code",
   "execution_count": 4,
   "metadata": {},
   "outputs": [
    {
     "name": "stdout",
     "output_type": "stream",
     "text": [
      "[1, 2, 4, 2, 3, 56, 6, 1, 2, 4, 5, 6]\n"
     ]
    }
   ],
   "source": [
    "# Create a program to flatten a nested list using list comprehension.\n",
    "my_list = [[1,2,4], [2,3,56,6], [1,2,4,5,6]]\n",
    "flattened_list = [item for sublist in my_list for item in sublist]\n",
    "print(flattened_list)"
   ]
  },
  {
   "cell_type": "code",
   "execution_count": 5,
   "metadata": {},
   "outputs": [
    {
     "name": "stdout",
     "output_type": "stream",
     "text": [
      "[7, 14, 21, 28, 35, 42, 49, 56, 63, 70, 77, 84, 91, 98]\n"
     ]
    }
   ],
   "source": [
    "# Write a program to find all numbers divisible by 7 between 1 and 100 using list comprehension.\n",
    "divisible_by_7 = [i for i in range(1,101) if i%7==0]\n",
    "print(divisible_by_7)\n"
   ]
  },
  {
   "cell_type": "code",
   "execution_count": 6,
   "metadata": {},
   "outputs": [
    {
     "name": "stdout",
     "output_type": "stream",
     "text": [
      "[(1, 'a'), (1, 'b'), (1, 'c'), (2, 'a'), (2, 'b'), (2, 'c'), (3, 'a'), (3, 'b'), (3, 'c'), (4, 'a'), (4, 'b'), (4, 'c'), (5, 'a'), (5, 'b'), (5, 'c'), (6, 'a'), (6, 'b'), (6, 'c'), (78, 'a'), (78, 'b'), (78, 'c'), (8, 'a'), (8, 'b'), (8, 'c'), (9, 'a'), (9, 'b'), (9, 'c'), (10, 'a'), (10, 'b'), (10, 'c')]\n"
     ]
    }
   ],
   "source": [
    "# Create a program to generate a list of all possible pairs from two lists.\n",
    "list1 = [1,2,3,4,5,6,78,8,9,10]\n",
    "list2 = [\"a\", \"b\", \"c\"]\n",
    "\n",
    "new_list = [(x,y) for x in list1 for y in list2]\n",
    "print(new_list)\n"
   ]
  },
  {
   "cell_type": "code",
   "execution_count": 12,
   "metadata": {},
   "outputs": [
    {
     "name": "stdout",
     "output_type": "stream",
     "text": [
      "My nm s Ssm Rkk.\n"
     ]
    }
   ],
   "source": [
    "# Write a program to remove all vowels from a string using list comprehension.\n",
    "my_string = \"My name is Susma Rokka.\"\n",
    "new_string =\"\".join([x for x in my_string if x.lower() not in \"aeiou\"])\n",
    "print(new_string)\n"
   ]
  },
  {
   "cell_type": "markdown",
   "metadata": {},
   "source": [
    "# Error Handling"
   ]
  },
  {
   "cell_type": "code",
   "execution_count": 22,
   "metadata": {},
   "outputs": [
    {
     "name": "stdout",
     "output_type": "stream",
     "text": [
      "user_input: 8\n"
     ]
    }
   ],
   "source": [
    "# Write a program to handle invalid user input (e.g., non-integer input for an integer).\n",
    "try:\n",
    "    user_input = int(input(\"Enter a number: \"))\n",
    "    print(\"user_input:\", user_input)\n",
    "\n",
    "except ValueError:\n",
    "    print(\" Invalid number. Please enter integer number.\")"
   ]
  },
  {
   "cell_type": "code",
   "execution_count": 18,
   "metadata": {},
   "outputs": [
    {
     "name": "stdout",
     "output_type": "stream",
     "text": [
      "File not found.\n"
     ]
    }
   ],
   "source": [
    "# Create a program to handle file not found errors when reading a file.\n",
    "try:\n",
    "    with  open(\"file.txt\", \"r\")as f:\n",
    "        content = f.read()\n",
    "        print(content)\n",
    "except FileNotFoundError:\n",
    "    print(\"File not found.\")\n",
    "except Exception as e:\n",
    "    print(e)\n",
    "\n"
   ]
  },
  {
   "cell_type": "code",
   "execution_count": 24,
   "metadata": {},
   "outputs": [
    {
     "name": "stdout",
     "output_type": "stream",
     "text": [
      "Invalid operator input.\n"
     ]
    }
   ],
   "source": [
    "# Write a program to handle division by zero and invalid input errors in a calculator\n",
    "\n",
    "def calculator():\n",
    "    try:\n",
    "        num1 = float(input(\"Enter a number: \"))\n",
    "        num2 = float(input(\"Enter a number: \"))\n",
    "        operators = input(\"Enter any operators (+, -, /, *):\")\n",
    "        if operators == \"+\":\n",
    "            return (f\"{num1+num2}\")\n",
    "        elif operators == \"-\":\n",
    "            return(f\"{num1-num2}\")\n",
    "        elif operators == \"*\":\n",
    "            return(f\"{num1*num2}\")\n",
    "        \n",
    "        elif operators == \"/\":\n",
    "            try:\n",
    "                return num1/num2\n",
    "            except ZeroDivisionError:\n",
    "                return(\"The number can't be divisible by 0.\")\n",
    "            \n",
    "        else:\n",
    "            return(\"Invalid operator input.\")\n",
    "        \n",
    "    except ValueError:\n",
    "        return(\"Invalid input. Enter a valid number.\")  \n",
    "    \n",
    "\n",
    "print(calculator())\n",
    "        \n",
    "\n",
    "        \n"
   ]
  },
  {
   "cell_type": "code",
   "execution_count": null,
   "metadata": {},
   "outputs": [],
   "source": [
    "\n",
    "def calculator():\n",
    "    try:\n",
    "        num1 = float(input(\"Enter a number: \"))\n",
    "        num2 = float(input(\"Enter a number: \"))\n",
    "        operators = input(\"Enter any operators (+, -, /, *):\")\n",
    "        if operators == \"+\":\n",
    "            return (f\"{num1+num2}\")\n",
    "        elif operators == \"-\":\n",
    "            return(f\"{num1-num2}\")\n",
    "        elif operators == \"*\":\n",
    "            return(f\"{num1*num2}\")\n",
    "        \n",
    "        elif operators == \"/\":\n",
    "            try:\n",
    "                return num1/num2\n",
    "            except ZeroDivisionError:\n",
    "                return(\"The number can't be divisible by 0.\")\n",
    "            \n",
    "        else:\n",
    "            return(\"Invalid operator input.\")\n",
    "        \n",
    "    except ValueError:\n",
    "        return(\"Invalid input. Enter a valid number.\")  \n",
    "    \n",
    "\n",
    "print(calculator())"
   ]
  },
  {
   "cell_type": "code",
   "execution_count": null,
   "metadata": {},
   "outputs": [],
   "source": [
    "\n",
    "def calculator():\n",
    "    try:\n",
    "        num1 = float(input(\"Enter a number: \"))\n",
    "        num2 = float(input(\"Enter a number: \"))\n",
    "        operators = input(\"Enter any operators (+, -, /, *):\")\n",
    "        if operators == \"+\":\n",
    "            return (f\"{num1+num2}\")\n",
    "        elif operators == \"-\":\n",
    "            return(f\"{num1-num2}\")\n",
    "        elif operators == \"*\":\n",
    "            return(f\"{num1*num2}\")\n",
    "        \n",
    "        elif operators == \"/\":\n",
    "            try:\n",
    "                return num1/num2\n",
    "            except ZeroDivisionError:\n",
    "                return(\"The number can't be divisible by 0.\")\n",
    "            \n",
    "        else:\n",
    "            return(\"Invalid operator input.\")\n",
    "        \n",
    "    except ValueError:\n",
    "        return(\"Invalid input. Enter a valid number.\")  \n",
    "    \n",
    "\n",
    "print(calculator())"
   ]
  },
  {
   "cell_type": "code",
   "execution_count": null,
   "metadata": {},
   "outputs": [],
   "source": [
    "\n",
    "def calculator():\n",
    "    try:\n",
    "        num1 = float(input(\"Enter a number: \"))\n",
    "        num2 = float(input(\"Enter a number: \"))\n",
    "        operators = input(\"Enter any operators (+, -, /, *):\")\n",
    "        if operators == \"+\":\n",
    "            return (f\"{num1+num2}\")\n",
    "        elif operators == \"-\":\n",
    "            return(f\"{num1-num2}\")\n",
    "        elif operators == \"*\":\n",
    "            return(f\"{num1*num2}\")\n",
    "        \n",
    "        elif operators == \"/\":\n",
    "            try:\n",
    "                return num1/num2\n",
    "            except ZeroDivisionError:\n",
    "                return(\"The number can't be divisible by 0.\")\n",
    "            \n",
    "        else:\n",
    "            return(\"Invalid operator input.\")\n",
    "        \n",
    "    except ValueError:\n",
    "        return(\"Invalid input. Enter a valid number.\")  \n",
    "    \n",
    "\n",
    "print(calculator())"
   ]
  },
  {
   "cell_type": "code",
   "execution_count": 27,
   "metadata": {},
   "outputs": [
    {
     "name": "stdout",
     "output_type": "stream",
     "text": [
      "Alice\n",
      "Error: The occupation doesn't exist in the dictionary.\n"
     ]
    }
   ],
   "source": [
    "# Create a program to handle key errors when accessing a dictionary.\n",
    "def get_value_from_dict(dictionary ,key):\n",
    "    try:\n",
    "        value = dictionary[key]\n",
    "        return value\n",
    "    except KeyError:\n",
    "        return f\"Error: The {key} doesn't exist in the dictionary.\"\n",
    "    \n",
    "sample_dict = {\n",
    "    \"name\": \"Alice\",\n",
    "    \"age\": 30,\n",
    "    \"city\": \"New York\"\n",
    "}\n",
    "    \n",
    "\n",
    "print(get_value_from_dict(sample_dict, \"name\"))\n",
    "print(get_value_from_dict(sample_dict, \"occupation\"))\n"
   ]
  },
  {
   "cell_type": "code",
   "execution_count": null,
   "metadata": {},
   "outputs": [],
   "source": [
    "# Write a program to handle multiple exceptions in a single try block."
   ]
  },
  {
   "cell_type": "markdown",
   "metadata": {},
   "source": [
    "# File Handling"
   ]
  },
  {
   "cell_type": "code",
   "execution_count": 8,
   "metadata": {},
   "outputs": [
    {
     "name": "stdout",
     "output_type": "stream",
     "text": [
      "This  is a test file.\n",
      "\n"
     ]
    }
   ],
   "source": [
    "# Write a program to read a text file and print its contents\n",
    "filepath = '../files/test.txt'\n",
    "with open(filepath, \"r\" ) as f:\n",
    "    content = f.read()\n",
    "    print(content)"
   ]
  },
  {
   "cell_type": "code",
   "execution_count": null,
   "metadata": {},
   "outputs": [],
   "source": [
    "\n"
   ]
  },
  {
   "cell_type": "code",
   "execution_count": null,
   "metadata": {},
   "outputs": [],
   "source": [
    "\n"
   ]
  },
  {
   "cell_type": "markdown",
   "metadata": {},
   "source": [
    "# Object Oriented Programming(oop)"
   ]
  },
  {
   "cell_type": "code",
   "execution_count": 8,
   "metadata": {},
   "outputs": [
    {
     "name": "stdout",
     "output_type": "stream",
     "text": [
      "50 has been deposited making total of 150.\n",
      "Withdrawal amount can't be negative.\n",
      "The remaining balanace is 150.\n"
     ]
    }
   ],
   "source": [
    "# Create print(a BankAccount class )with methods for deposit, withdrawal, and checking balance\n",
    "class BankAccount():\n",
    "    def __init__(self, balance=0):\n",
    "        self.balance = balance\n",
    "    def deposit(self, amount):\n",
    "        self.balance += amount\n",
    "        return f\"{amount} has been deposited making total of {self.balance}.\"\n",
    "    \n",
    "    def withdrawal(self, amount):\n",
    "        if amount> self.balance:\n",
    "            return \"Insufficient amount.\"\n",
    "        elif amount <0:\n",
    "            raise ValueError (\"Withdrawal amount can't be negative.\")\n",
    "        else:\n",
    "            self.balance-=amount\n",
    "            return f\"{amount} has been withdrawn making total of {self.balance}.\"\n",
    "        \n",
    "\n",
    "    def checking_balance(self):\n",
    "        return f\"The remaining balanace is {self.balance}.\"\n",
    "    \n",
    "\n",
    "a = BankAccount(100)\n",
    "print(a.deposit(50))\n",
    "try:\n",
    "    print(a.withdrawal(-50))\n",
    "except Exception as e:\n",
    "    print(e)\n",
    "print(a.checking_balance())\n"
   ]
  },
  {
   "cell_type": "code",
   "execution_count": 13,
   "metadata": {},
   "outputs": [
    {
     "name": "stdout",
     "output_type": "stream",
     "text": [
      "rolleh\n"
     ]
    }
   ],
   "source": [
    "# function to reverse the string\n",
    "def reverse_str(my_string:str)->str:\n",
    "    reversed_string = my_string[::-1]\n",
    "    return reversed_string\n",
    "\n",
    "my_string= input(\"Enter a word: \")\n",
    "print(reverse_str(my_string))"
   ]
  },
  {
   "cell_type": "code",
   "execution_count": null,
   "metadata": {},
   "outputs": [],
   "source": []
  }
 ],
 "metadata": {
  "kernelspec": {
   "display_name": "project_env",
   "language": "python",
   "name": "python3"
  },
  "language_info": {
   "codemirror_mode": {
    "name": "ipython",
    "version": 3
   },
   "file_extension": ".py",
   "mimetype": "text/x-python",
   "name": "python",
   "nbconvert_exporter": "python",
   "pygments_lexer": "ipython3",
   "version": "3.13.1"
  }
 },
 "nbformat": 4,
 "nbformat_minor": 2
}
