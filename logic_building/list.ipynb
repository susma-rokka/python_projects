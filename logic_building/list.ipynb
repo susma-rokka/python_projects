{
 "cells": [
  {
   "cell_type": "code",
   "execution_count": 1,
   "metadata": {},
   "outputs": [
    {
     "name": "stdout",
     "output_type": "stream",
     "text": [
      "12\n"
     ]
    }
   ],
   "source": [
    "# Write a program to find the sum of all elements in a list.\n",
    "\n",
    "list1 = [1,2,4,5]\n",
    "total_sum= sum(list1)\n",
    "print(total_sum)"
   ]
  },
  {
   "cell_type": "code",
   "execution_count": 4,
   "metadata": {},
   "outputs": [
    {
     "name": "stdout",
     "output_type": "stream",
     "text": [
      "1\n",
      "788\n"
     ]
    }
   ],
   "source": [
    "# Create a program to find the largest and smallest numbers in a list.\n",
    "list1 = [1,2,4,788,90]\n",
    "# largest= list1[0]\n",
    "# smallest= list1[0]\n",
    "# for item in list1:\n",
    "#     if item> largest:\n",
    "#         largest = item\n",
    "#     if item< smallest:\n",
    "#         smallest = item\n",
    "\n",
    "largest = max(list1)\n",
    "smallest = min(list1)\n",
    "print(smallest)\n",
    "print(largest)\n",
    "\n",
    "\n",
    "\n",
    "\n",
    "\n",
    "\n",
    "\n",
    "\n"
   ]
  },
  {
   "cell_type": "code",
   "execution_count": 7,
   "metadata": {},
   "outputs": [
    {
     "name": "stdout",
     "output_type": "stream",
     "text": [
      "76\n"
     ]
    }
   ],
   "source": [
    "# Write a program to find the second largest number in a list.\n",
    "\n",
    "list1 = [54, 12, 89, 33, 76, 21, 5, 62, 48, 37]\n",
    "\n",
    "list1.remove(max(list1))\n",
    "\n",
    "new_list1 = max(list1)\n",
    "print(new_list1)\n",
    "\n"
   ]
  },
  {
   "cell_type": "code",
   "execution_count": 8,
   "metadata": {},
   "outputs": [
    {
     "name": "stdout",
     "output_type": "stream",
     "text": [
      "[37, 48, 62, 5, 21, 76, 33, 89, 12, 54]\n"
     ]
    }
   ],
   "source": [
    "# Reverse a list without using the reverse() method.\n",
    "list1 = [54, 12, 89, 33, 76, 21, 5, 62, 48, 37]\n",
    "reversed_list = list1[::-1]\n",
    "print(reversed_list)"
   ]
  },
  {
   "cell_type": "code",
   "execution_count": 17,
   "metadata": {},
   "outputs": [
    {
     "name": "stdout",
     "output_type": "stream",
     "text": [
      "The 54 has occured 1 times in the list.\n"
     ]
    }
   ],
   "source": [
    "# Write a program to count the occurrences of an element in a list.\n",
    "list1 = [54, 12, 89, 33, 76, 21, 5, 62, 48, 37]\n",
    "counted_elements = 54\n",
    "count = 0\n",
    "for i  in list1:\n",
    "    if i == counted_elements:\n",
    "        count+=1\n",
    "print(f\"The {counted_elements} has occured {count} times in the list.\")\n",
    "\n",
    "    \n"
   ]
  },
  {
   "cell_type": "code",
   "execution_count": null,
   "metadata": {},
   "outputs": [],
   "source": [
    "# Remove duplicates from a list.\n"
   ]
  }
 ],
 "metadata": {
  "kernelspec": {
   "display_name": "project_env",
   "language": "python",
   "name": "python3"
  },
  "language_info": {
   "codemirror_mode": {
    "name": "ipython",
    "version": 3
   },
   "file_extension": ".py",
   "mimetype": "text/x-python",
   "name": "python",
   "nbconvert_exporter": "python",
   "pygments_lexer": "ipython3",
   "version": "3.13.1"
  }
 },
 "nbformat": 4,
 "nbformat_minor": 2
}
