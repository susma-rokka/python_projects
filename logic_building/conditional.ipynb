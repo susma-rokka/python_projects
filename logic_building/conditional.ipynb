{
 "cells": [
  {
   "cell_type": "code",
   "execution_count": null,
   "metadata": {},
   "outputs": [
    {
     "name": "stdout",
     "output_type": "stream",
     "text": [
      " 5 is odd.\n"
     ]
    }
   ],
   "source": [
    "# Write a program to check if a number is even or odd.\n",
    "num = int(input(\"Enter a number:\"))\n",
    "if num%2 == 0:\n",
    "    print(f\"{num} is even number.\")\n",
    "else:\n",
    "     print(f\" {num} is odd number.\")"
   ]
  },
  {
   "cell_type": "code",
   "execution_count": 16,
   "metadata": {},
   "outputs": [
    {
     "name": "stdout",
     "output_type": "stream",
     "text": [
      "a contains vowel.\n"
     ]
    }
   ],
   "source": [
    "# Create a program to determine if a character is a vowel or consonant.\n",
    "character = input(\"Enter a word:\")\n",
    "if character.isalpha():\n",
    "    if character in \"aeiouAEIOU\":\n",
    "        print(f\"{character} is vowel.\")\n",
    "    else:\n",
    "        print(f\"{character} is not  vowel.\")\n",
    "else:\n",
    "    print(\"Enter a valid {character}.\")"
   ]
  },
  {
   "cell_type": "code",
   "execution_count": 25,
   "metadata": {},
   "outputs": [
    {
     "name": "stdout",
     "output_type": "stream",
     "text": [
      "36 is divisible by 3.\n"
     ]
    }
   ],
   "source": [
    "# Write a program to check if a number is divisible by 5 and 3.\n",
    "num = int(input(\"Enter a number: \"))\n",
    "if num%5 == 0 and num%3 ==0:\n",
    "    print(f\"{num} is divisible by 5 and 3.\")\n",
    "elif num%3 == 0:\n",
    "    print(f\"{num} is divisible by 3.\")\n",
    "elif num%5 == 0:\n",
    "    print(f\"{num} is divisible by 5.\")\n",
    "\n",
    "else:\n",
    "    print(f\"{num}is not divisible by  either 5 or 3.\")"
   ]
  },
  {
   "cell_type": "code",
   "execution_count": 27,
   "metadata": {},
   "outputs": [
    {
     "name": "stdout",
     "output_type": "stream",
     "text": [
      "The student has scored E.\n"
     ]
    }
   ],
   "source": [
    "# Find the grade of a student based on their marks (A, B, C, D, F).\n",
    "marks = int(input(\"Enter a mark: \"))\n",
    "if marks >= 90:\n",
    "    print(\"The student has scored A.\")\n",
    "elif 80<= marks<90:\n",
    "    print(\"The student has scored B.\")\n",
    "elif 70<=marks<80:\n",
    "    print(\"The student has scored C.\")\n",
    "elif 60<= marks<70:\n",
    "    print(\"The student has scored D.\")\n",
    "elif 50<= marks<60:\n",
    "    print(\"The student has scored E.\")\n",
    "else:\n",
    "    print(\"The student is failed.\")"
   ]
  },
  {
   "cell_type": "code",
   "execution_count": 29,
   "metadata": {},
   "outputs": [
    {
     "name": "stdout",
     "output_type": "stream",
     "text": [
      "67 is not in the range.\n"
     ]
    }
   ],
   "source": [
    "# Write a program to check if a number is in a given range.\n",
    "num_range = (1,2,4,6,70,90)\n",
    "num=int(input(\"Enter a num\"))\n",
    "if num in num_range:\n",
    "    print(f\"{num} is in range.\")\n",
    "else:\n",
    "    print(f\"{num} is not in the range.\")\n",
    "    "
   ]
  },
  {
   "cell_type": "code",
   "execution_count": 35,
   "metadata": {},
   "outputs": [
    {
     "name": "stdout",
     "output_type": "stream",
     "text": [
      "m is in lowercase.\n"
     ]
    }
   ],
   "source": [
    "# Create a program to determine if a character is uppercase or lowercase.\n",
    "character = input(\"Enter a word: \")\n",
    "if character.isalpha():\n",
    "    if character.islower():\n",
    "        print(f\"{character} is in lowercase.\")\n",
    "    else:\n",
    "        print(f\"{character} is in uppercase.\")\n",
    "else:\n",
    "    print(\"Enter a valid word consisting of alphabetic characters.\")"
   ]
  },
  {
   "cell_type": "code",
   "execution_count": 3,
   "metadata": {},
   "outputs": [
    {
     "name": "stdout",
     "output_type": "stream",
     "text": [
      "55 is not a multiple of 10.\n"
     ]
    }
   ],
   "source": [
    "# Check if a number is a multiple of 10.\n",
    "\n",
    "num = int(input(\"Enter a number: \"))\n",
    "if num % 10 == 0:\n",
    "    print(f\"{num} is a multiple of 10.\")\n",
    "else:\n",
    "    print(f\"{num} is not a multiple of 10.\")\n"
   ]
  },
  {
   "cell_type": "code",
   "execution_count": 7,
   "metadata": {},
   "outputs": [
    {
     "name": "stdout",
     "output_type": "stream",
     "text": [
      "The traingle is invalid.\n"
     ]
    }
   ],
   "source": [
    "# Determine if a triangle is valid based on its sides.\n",
    "a = int(input(\"Enter the length of side1: \"))\n",
    "b = int(input(\"Enter the length of side2: \"))\n",
    "c = int(input(\"Enter the length of side3: \"))\n",
    "if a+b>c and a+c>b and b+c>a:\n",
    "    print(\"The traingle is valid.\")\n",
    "else:\n",
    "    print(\"The traingle is invalid.\")\n",
    "\n",
    "\n"
   ]
  },
  {
   "cell_type": "code",
   "execution_count": 10,
   "metadata": {},
   "outputs": [
    {
     "name": "stdout",
     "output_type": "stream",
     "text": [
      "-1 is negative integer.\n"
     ]
    }
   ],
   "source": [
    "# Write a program to classify an integer as positive, negative, or zero.\n",
    "num = int(input(\"Enter a number: \"))\n",
    "if num > 0:\n",
    "    print(f\"{num} is a positive integer.\")\n",
    "elif num<0:\n",
    "    print(f\"{num} is negative integer.\")\n",
    "else:\n",
    "    print(f\"{num} is zero.\")"
   ]
  },
  {
   "cell_type": "code",
   "execution_count": 15,
   "metadata": {},
   "outputs": [
    {
     "name": "stdout",
     "output_type": "stream",
     "text": [
      "people starts with consonant.\n"
     ]
    }
   ],
   "source": [
    "# Check if a string starts with a vowel\n",
    "word = input(\"Enter a word: \")\n",
    "if word[0] in \"aeiouAEIOU\":\n",
    "    print(f\"{word} starts with a vowel.\")\n",
    "else:\n",
    "    print(f\"{word} starts with consonant.\")\n",
    "\n"
   ]
  },
  {
   "cell_type": "code",
   "execution_count": 18,
   "metadata": {},
   "outputs": [
    {
     "name": "stdout",
     "output_type": "stream",
     "text": [
      "60 is the greatest number.\n"
     ]
    }
   ],
   "source": [
    "# Create a program to compare three numbers and print the largest.\n",
    "a = int(input(\"Enter a first number: \"))\n",
    "b = int(input(\"Enter a  second number: \"))\n",
    "c= int(input(\"Enter a third number: \"))\n",
    "if a>b and a>c:\n",
    "    print(f\"{a} is the greatest number.\")\n",
    "elif b>c and b>a:\n",
    "    print(f\"{b} is the greatest number.\")\n",
    "else:\n",
    "    print(f\"{c} is the greatest number.\")"
   ]
  },
  {
   "cell_type": "code",
   "execution_count": 20,
   "metadata": {},
   "outputs": [
    {
     "name": "stdout",
     "output_type": "stream",
     "text": [
      "67 is not a perfect square.\n"
     ]
    }
   ],
   "source": [
    "# Determine if a number is a perfect square.\n",
    "\n",
    "import math\n",
    "num = int(input(\"Enter a  number: \"))\n",
    "if num<0:\n",
    "    print(f\"{num} is a invalid for perfect square.\")\n",
    "else:\n",
    "    sqrt_num = math.isqrt(num)\n",
    "    if sqrt_num * sqrt_num == num:\n",
    "        print(f\"{num} is a perfect square.\")\n",
    "    else:\n",
    "        print(f\"{num} is not a perfect square.\")\n",
    "\n",
    "    "
   ]
  },
  {
   "cell_type": "code",
   "execution_count": 25,
   "metadata": {},
   "outputs": [
    {
     "name": "stdout",
     "output_type": "stream",
     "text": [
      "passw*T9JDH matches with predefined password.\n"
     ]
    }
   ],
   "source": [
    "# Check if a user-entered password matches a predefined password.\n",
    "import re\n",
    "user_password = (input(\"Enter a password: \"))\n",
    "pattern = r'^(?=.*[a-z])(?=.*[A-Z])(?=.*\\d)(?=.*[@$!%*?&])[A-Za-z\\d@$!%*?&]{8,}$'\n",
    "if re.match(pattern, user_password):\n",
    "    print(f\"{user_password} matches with predefined password.\")\n",
    "else:\n",
    "     print(f\"{user_password}  does not match with predefined password.\")"
   ]
  },
  {
   "cell_type": "code",
   "execution_count": 26,
   "metadata": {},
   "outputs": [
    {
     "name": "stdout",
     "output_type": "stream",
     "text": [
      "The person is not eligible for voting.\n"
     ]
    }
   ],
   "source": [
    "# Write a program to determine eligibility to vote (age >= 18).\n",
    "age = int(input(\"Enter a age: \"))\n",
    "if age >=18:\n",
    "    print(\"The person is eligible for voting.\")\n",
    "else:\n",
    "    print(\"The person is not eligible for voting.\")\n",
    "    "
   ]
  },
  {
   "cell_type": "code",
   "execution_count": 31,
   "metadata": {},
   "outputs": [
    {
     "name": "stdout",
     "output_type": "stream",
     "text": [
      "2024 is a leap year.\n"
     ]
    }
   ],
   "source": [
    "# Check if a year is a leap year.\n",
    "year = int(input(\"Enter a year: \"))\n",
    "if (year % 4 == 0 and year%100 !=0) or (year % 400 == 0):\n",
    "    print(f'{year} is a leap year.')\n",
    "else:\n",
    "    print(f'{year} is not a leap year.')\n",
    "\n"
   ]
  },
  {
   "cell_type": "code",
   "execution_count": 35,
   "metadata": {},
   "outputs": [
    {
     "name": "stdout",
     "output_type": "stream",
     "text": [
      "23:45:59 is valid.\n"
     ]
    }
   ],
   "source": [
    "# Write a program to verify if a given time is valid (hh:mm:ss format).\n",
    "import re\n",
    "h= int(input(\"Enter the hour:\"))\n",
    "m= int(input(\"Enter the minute:\"))\n",
    "s= int(input(\"Enter the second:\"))\n",
    "pattern = r'^(?:[01]\\d|2[0-3]):[0-5]\\d:[0-5]\\d$'\n",
    "time = f\"{h:02}:{m:02}:{s:02}\"\n",
    "if re.match(pattern, time):\n",
    "    print(f'{time} is valid.')\n",
    "else:\n",
    "    print(f\"{time} is not valid.\")\n"
   ]
  },
  {
   "cell_type": "code",
   "execution_count": 44,
   "metadata": {},
   "outputs": [
    {
     "name": "stdout",
     "output_type": "stream",
     "text": [
      "Monday is weekday.\n"
     ]
    }
   ],
   "source": [
    "# Determine if a given day is a weekday or weekend.\n",
    "day = input(\"Enter a day: \").strip().capitalize()\n",
    "weekday = [\"Sunday\", \"Monday\", \"Tuesday\", \"wednesday\", \"Thursday\",\"Friday\"]\n",
    "weekend = [\"Saturday\", \"Sunday\"]\n",
    "\n",
    "if day in weekday:\n",
    "    print(f\"{day} is weekday.\")\n",
    "elif day in  weekend:\n",
    "    print(f\"{day} is weekend.\")\n",
    "\n",
    "else:\n",
    "    print(\"Enter a valid day.\")"
   ]
  },
  {
   "cell_type": "code",
   "execution_count": 49,
   "metadata": {},
   "outputs": [
    {
     "name": "stdout",
     "output_type": "stream",
     "text": [
      "50 does not have an integer square root.\n"
     ]
    }
   ],
   "source": [
    "# Check if a number has an integer square root.\n",
    "import math\n",
    "num = int(input(\"enter a number: \"))\n",
    "sqrt_num= math.sqrt(num)\n",
    "if sqrt_num *sqrt_num == num:\n",
    "    print(f\"{num} has an integer square root.\")\n",
    "else:\n",
    "    print(f\"{num} does not have an integer square root.\")"
   ]
  },
  {
   "cell_type": "code",
   "execution_count": 52,
   "metadata": {},
   "outputs": [
    {
     "name": "stdout",
     "output_type": "stream",
     "text": [
      "i\n",
      "i\n",
      "Fizz\n",
      "i\n",
      "Buzz\n",
      "Fizz\n",
      "i\n",
      "i\n",
      "Fizz\n",
      "Buzz\n",
      "i\n",
      "Fizz\n",
      "i\n",
      "i\n",
      "Fizzbuzz\n",
      "i\n",
      "i\n",
      "Fizz\n",
      "i\n",
      "Buzz\n",
      "Fizz\n",
      "i\n",
      "i\n",
      "Fizz\n",
      "Buzz\n",
      "i\n",
      "Fizz\n",
      "i\n",
      "i\n",
      "Fizzbuzz\n",
      "i\n",
      "i\n",
      "Fizz\n",
      "i\n",
      "Buzz\n",
      "Fizz\n",
      "i\n",
      "i\n",
      "Fizz\n",
      "Buzz\n",
      "i\n",
      "Fizz\n",
      "i\n",
      "i\n",
      "Fizzbuzz\n",
      "i\n",
      "i\n",
      "Fizz\n",
      "i\n",
      "Buzz\n",
      "Fizz\n",
      "i\n",
      "i\n",
      "Fizz\n",
      "Buzz\n",
      "i\n",
      "Fizz\n",
      "i\n",
      "i\n",
      "Fizzbuzz\n",
      "i\n",
      "i\n",
      "Fizz\n",
      "i\n",
      "Buzz\n",
      "Fizz\n",
      "i\n",
      "i\n",
      "Fizz\n",
      "Buzz\n",
      "i\n",
      "Fizz\n",
      "i\n",
      "i\n",
      "Fizzbuzz\n",
      "i\n",
      "i\n",
      "Fizz\n",
      "i\n",
      "Buzz\n",
      "Fizz\n",
      "i\n",
      "i\n",
      "Fizz\n",
      "Buzz\n",
      "i\n",
      "Fizz\n",
      "i\n",
      "i\n",
      "Fizzbuzz\n",
      "i\n",
      "i\n",
      "Fizz\n",
      "i\n",
      "Buzz\n",
      "Fizz\n",
      "i\n",
      "i\n",
      "Fizz\n",
      "Buzz\n"
     ]
    }
   ],
   "source": [
    "# Write a program to print \"Fizz,\" \"Buzz,\" or \"FizzBuzz\" based on divisibility by 3 or 5.\n",
    "for i in range(1,101):\n",
    "    if i%3==0 and i%5==0:\n",
    "        print(\"Fizzbuzz\")\n",
    "    elif i%3==0:\n",
    "        print(\"Fizz\")\n",
    "    elif i%5 ==0:\n",
    "        print(\"Buzz\")\n",
    "\n",
    "    else:\n",
    "        print(\"i\")\n"
   ]
  },
  {
   "cell_type": "code",
   "execution_count": 55,
   "metadata": {},
   "outputs": [
    {
     "name": "stdout",
     "output_type": "stream",
     "text": [
      "string is empty.\n"
     ]
    }
   ],
   "source": [
    "# Determine if a string is empty.\n",
    "my_string = input(\"Enter a word: \")\n",
    "# if not my_string:\n",
    "#     print(\"string is empty.\")\n",
    "# else:\n",
    "#     print(\"string is not empty.\")\n",
    "\n",
    "if len(my_string)==0:\n",
    "     print(\"string is empty.\")\n",
    "else:\n",
    "     print(\"string is not empty.\")\n",
    "     \n",
    "\n",
    "\n"
   ]
  }
 ],
 "metadata": {
  "kernelspec": {
   "display_name": "project_env",
   "language": "python",
   "name": "python3"
  },
  "language_info": {
   "codemirror_mode": {
    "name": "ipython",
    "version": 3
   },
   "file_extension": ".py",
   "mimetype": "text/x-python",
   "name": "python",
   "nbconvert_exporter": "python",
   "pygments_lexer": "ipython3",
   "version": "3.13.1"
  }
 },
 "nbformat": 4,
 "nbformat_minor": 2
}
