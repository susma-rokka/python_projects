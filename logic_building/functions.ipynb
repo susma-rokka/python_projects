{
 "cells": [
  {
   "cell_type": "code",
   "execution_count": 8,
   "metadata": {},
   "outputs": [
    {
     "name": "stdout",
     "output_type": "stream",
     "text": [
      "73\n"
     ]
    }
   ],
   "source": [
    "# Write a function to return the sum of two numbers.\n",
    "def sum(num1, num2):\n",
    "    result = num1 + num2\n",
    "    return result\n",
    "\n",
    "num1, num2 = (3, 70)\n",
    "print(sum(num1, num2))\n"
   ]
  },
  {
   "cell_type": "code",
   "execution_count": 11,
   "metadata": {},
   "outputs": [
    {
     "name": "stdout",
     "output_type": "stream",
     "text": [
      "25\n"
     ]
    }
   ],
   "source": [
    "# Create a function to calculate the area of a triangle.\n",
    "\n",
    "breadth = int(input(\"Enter a breadth: \"))\n",
    "height = int(input(\"Enter a height : \"))\n",
    "def area_of_triangle(breadth, height):\n",
    "    result = 0.5*breadth*height\n",
    "    return int(result)\n",
    "print(area_of_triangle(breadth, height))"
   ]
  },
  {
   "cell_type": "code",
   "execution_count": 13,
   "metadata": {},
   "outputs": [
    {
     "name": "stdout",
     "output_type": "stream",
     "text": [
      "lufituaeB\n"
     ]
    }
   ],
   "source": [
    "# Write a function that accepts a string and returns it reversed.\n",
    "def reversed_string(my_string):\n",
    "    reversed_string = my_string[::-1]\n",
    "    return reversed_string\n",
    "my_string = \"Beautiful\"\n",
    "print(reversed_string(my_string))\n"
   ]
  },
  {
   "cell_type": "code",
   "execution_count": 3,
   "metadata": {},
   "outputs": [
    {
     "name": "stdout",
     "output_type": "stream",
     "text": [
      "The maximum number is 34757585\n"
     ]
    }
   ],
   "source": [
    "# Create a function to find the maximum of three numbers.\n",
    "def maximum_number(num1, num2, num3):\n",
    "    if num1> num2 and num1>num3:\n",
    "       return num1\n",
    "    elif num2>num1 and num2>num3:\n",
    "        return num2\n",
    "    else:\n",
    "        return num3\n",
    "num1 = int(input(\"Enter a first number. \"))\n",
    "num2 = int(input(\"Enter a second number. \"))\n",
    "num3 = int(input(\"Enter a third number. \"))\n",
    "\n",
    "print(f\"The maximum number is {maximum_number(num1, num2, num3)}\")"
   ]
  },
  {
   "cell_type": "code",
   "execution_count": 6,
   "metadata": {},
   "outputs": [
    {
     "name": "stdout",
     "output_type": "stream",
     "text": [
      "23\n"
     ]
    }
   ],
   "source": [
    "# Write a function to calculate the length of a string.\n",
    "def length(my_string):\n",
    "    length = 0\n",
    "    for i in my_string:\n",
    "        length+=1\n",
    "    return length\n",
    "    \n",
    "my_string = \"NNJHGHUUGYUGydghfuieufu\"\n",
    "print(length(my_string))\n"
   ]
  },
  {
   "cell_type": "code",
   "execution_count": 15,
   "metadata": {},
   "outputs": [
    {
     "name": "stdout",
     "output_type": "stream",
     "text": [
      "56 is even number.\n"
     ]
    }
   ],
   "source": [
    "# Create a function that checks if a number is even or odd.\n",
    "def check_number(num):\n",
    "    if num%2 == 0:\n",
    "        return True\n",
    "    else:\n",
    "        return False\n",
    "\n",
    "num = int(input(\"Enter a number: \"))\n",
    "if check_number(num):\n",
    "    print(f\"{num} is even number.\")\n",
    "else:\n",
    "    print(f\"{num} is odd.\")"
   ]
  },
  {
   "cell_type": "code",
   "execution_count": 22,
   "metadata": {},
   "outputs": [
    {
     "name": "stdout",
     "output_type": "stream",
     "text": [
      "5040\n"
     ]
    }
   ],
   "source": [
    "# Write a function to return the factorial of a number.\n",
    "def factorial(num):\n",
    "    factorial = 1\n",
    "    for i in range(1, num+1):\n",
    "        factorial *=i\n",
    "    return factorial\n",
    "num = 7\n",
    "print(factorial(num))"
   ]
  },
  {
   "cell_type": "code",
   "execution_count": 29,
   "metadata": {},
   "outputs": [
    {
     "name": "stdout",
     "output_type": "stream",
     "text": [
      "The power of 5 to 6 is 15625 \n"
     ]
    }
   ],
   "source": [
    "# Create a function to calculate the power of a number.\n",
    "def power_of_num(base, exponent):\n",
    "    result = base**exponent\n",
    "    return result\n",
    "base = int(input(\"enter the base number: \"))\n",
    "exponent = int(input(\"Enter the exponent number: \"))\n",
    "\n",
    "\n",
    "print(f\"The power of {base} to {exponent} is {power_of_num(base, exponent)} \") "
   ]
  },
  {
   "cell_type": "code",
   "execution_count": 40,
   "metadata": {},
   "outputs": [
    {
     "name": "stdout",
     "output_type": "stream",
     "text": [
      "The num is not prime number.\n"
     ]
    }
   ],
   "source": [
    "# Write a function to check if a number is prime.\n",
    "def check_prime_number(num):\n",
    "    if num<=1:\n",
    "        return False\n",
    "#     for i in range(2, int(num**0.5)+1):\n",
    "#         if num%i == 0:\n",
    "#             return False\n",
    "#     return True\n",
    "        \n",
    "\n",
    "\n",
    "# num = 9\n",
    "# if  check_prime_number(num):\n",
    "#     print(\"The num is prime number.\")\n",
    "# else:\n",
    "#     print(\"The num is not prime number.\")\n",
    "\n",
    "        i = 2\n",
    "        i = 2\n",
    "    while i * i <= num:\n",
    "        if num % i == 0:\n",
    "            return False\n",
    "        i += 1\n",
    "    return True\n"
   ]
  },
  {
   "cell_type": "code",
   "execution_count": 43,
   "metadata": {},
   "outputs": [
    {
     "name": "stdout",
     "output_type": "stream",
     "text": [
      "7\n"
     ]
    }
   ],
   "source": [
    "# Create a function that takes a list and returns its sum.\n",
    "def total_sum(my_list):\n",
    "#     sum = 0\n",
    "#     for i in my_list:\n",
    "#         sum+=i\n",
    "#     return sum\n",
    "# my_list = [1,2,4]\n",
    "# print(total_sum(my_list))\n",
    "\n",
    "    my_list = sum(my_list)\n",
    "    return my_list\n",
    "my_list = [1,2,4]\n",
    "print(total_sum(my_list))"
   ]
  },
  {
   "cell_type": "code",
   "execution_count": 47,
   "metadata": {},
   "outputs": [
    {
     "name": "stdout",
     "output_type": "stream",
     "text": [
      "1\n"
     ]
    }
   ],
   "source": [
    "# Write a function to find the smallest number in a list.\n",
    "def find_smallest(my_list):\n",
    "    smallest = my_list[0]\n",
    "    for i in my_list:\n",
    "        if i < smallest:\n",
    "            smallest = i\n",
    "    return smallest \n",
    "\n",
    "list = [2,3,5,6]\n",
    "print(find_smallest(my_list))\n",
    "   "
   ]
  },
  {
   "cell_type": "code",
   "execution_count": 48,
   "metadata": {},
   "outputs": [
    {
     "name": "stdout",
     "output_type": "stream",
     "text": [
      "[238488, 8888, 90]\n"
     ]
    }
   ],
   "source": [
    "# Create a function to remove duplicates from a list.\n",
    "\n",
    "def duplicates_removal(my_list):\n",
    "    new_list = []\n",
    "    for item in my_list:\n",
    "        if item not in new_list:\n",
    "            new_list.append(item)\n",
    "    return new_list\n",
    "my_list = [238488,8888,8888,90,90]\n",
    "print(duplicates_removal(my_list))"
   ]
  },
  {
   "cell_type": "code",
   "execution_count": 11,
   "metadata": {},
   "outputs": [
    {
     "name": "stdout",
     "output_type": "stream",
     "text": [
      "The largest word in a sentence is Susma..\n"
     ]
    }
   ],
   "source": [
    "# Write a function to return the largest word in a sentence.\n",
    "def largest_word(sentence):\n",
    "    words = sentence.split()\n",
    "    largest = words[0]\n",
    "    for word in words:\n",
    "        if len(word)> len(largest):\n",
    "            largest = word\n",
    "    return largest\n",
    "sentence = \"My name is Susma.\"\n",
    "print(f\"The largest word in a sentence is {largest_word(sentence)}.\")\n",
    "\n",
    "\n",
    "\n"
   ]
  },
  {
   "cell_type": "code",
   "execution_count": null,
   "metadata": {},
   "outputs": [],
   "source": [
    "# Create a function that takes a list and returns the second largest number\n",
    "def second_largest_number(my_list):\n",
    "    new_list = []\n",
    "    for item in my_list:\n",
    "        if item < my_list:\n",
    "            new_list= item\n",
    "            break\n",
    "    return new_list\n",
    "\n",
    "\n"
   ]
  },
  {
   "cell_type": "code",
   "execution_count": null,
   "metadata": {},
   "outputs": [],
   "source": []
  },
  {
   "cell_type": "code",
   "execution_count": null,
   "metadata": {},
   "outputs": [],
   "source": []
  },
  {
   "cell_type": "code",
   "execution_count": null,
   "metadata": {},
   "outputs": [],
   "source": []
  },
  {
   "cell_type": "code",
   "execution_count": null,
   "metadata": {},
   "outputs": [],
   "source": []
  },
  {
   "cell_type": "code",
   "execution_count": null,
   "metadata": {},
   "outputs": [],
   "source": []
  },
  {
   "cell_type": "code",
   "execution_count": null,
   "metadata": {},
   "outputs": [],
   "source": []
  }
 ],
 "metadata": {
  "kernelspec": {
   "display_name": "project_env",
   "language": "python",
   "name": "python3"
  },
  "language_info": {
   "codemirror_mode": {
    "name": "ipython",
    "version": 3
   },
   "file_extension": ".py",
   "mimetype": "text/x-python",
   "name": "python",
   "nbconvert_exporter": "python",
   "pygments_lexer": "ipython3",
   "version": "3.13.1"
  }
 },
 "nbformat": 4,
 "nbformat_minor": 2
}
